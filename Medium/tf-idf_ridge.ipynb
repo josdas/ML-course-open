{
 "cells": [
  {
   "cell_type": "code",
   "execution_count": 1,
   "metadata": {
    "collapsed": true
   },
   "outputs": [],
   "source": [
    "import warnings\n",
    "warnings.filterwarnings('ignore')\n",
    "%matplotlib inline\n",
    "from matplotlib import pyplot as plt\n",
    "import seaborn as sns\n",
    "import os\n",
    "import numpy as np\n",
    "import pandas as pd\n",
    "import pickle\n",
    "from scipy.sparse import csr_matrix, hstack, vstack\n",
    "from functools import lru_cache\n",
    "import json\n",
    "from tqdm import tqdm_notebook\n",
    "import itertools\n",
    "import re\n",
    "\n",
    "from sklearn.preprocessing import StandardScaler, OneHotEncoder, MinMaxScaler\n",
    "from sklearn.model_selection import StratifiedKFold, train_test_split, KFold\n",
    "from sklearn.metrics import mean_absolute_error\n",
    "from sklearn.linear_model import LogisticRegression, LogisticRegressionCV, Ridge\n",
    "from sklearn.ensemble import GradientBoostingClassifier, GradientBoostingRegressor, RandomForestRegressor\n",
    "from sklearn.neighbors import KNeighborsClassifier\n",
    "from sklearn.feature_extraction.text import TfidfVectorizer\n",
    "from sklearn.pipeline import Pipeline\n",
    "from sklearn.model_selection import cross_val_score\n",
    "from sklearn.feature_extraction.text import TfidfVectorizer, TfidfTransformer, CountVectorizer\n",
    "from sklearn.base import BaseEstimator\n",
    "from sklearn.ensemble import BaggingClassifier\n",
    "from sklearn.feature_extraction.text import CountVectorizer\n",
    "from sklearn.metrics import mean_absolute_error"
   ]
  },
  {
   "cell_type": "code",
   "execution_count": 2,
   "metadata": {
    "collapsed": true
   },
   "outputs": [],
   "source": [
    "RAND = 123\n",
    "PATH_TO_DATA = 'data/'\n",
    "PATH_TO_SUBMIT = 'submissions/'\n",
    "PATH_TO_TEST_JSON = os.path.join(PATH_TO_DATA, 'test.json')\n",
    "PATH_TO_TRAIN_JSON = os.path.join(PATH_TO_DATA, 'train.json')"
   ]
  },
  {
   "cell_type": "code",
   "execution_count": 3,
   "metadata": {
    "collapsed": true
   },
   "outputs": [],
   "source": [
    "from html.parser import HTMLParser\n",
    "\n",
    "class MLStripper(HTMLParser):\n",
    "    def __init__(self):\n",
    "        self.reset()\n",
    "        self.strict = False\n",
    "        self.convert_charrefs= True\n",
    "        self.fed = []\n",
    "    def handle_data(self, d):\n",
    "        self.fed.append(d)\n",
    "    def get_data(self):\n",
    "        return ''.join(self.fed)\n",
    "\n",
    "def strip_tags(html):\n",
    "    s = MLStripper()\n",
    "    s.feed(html)\n",
    "    return s.get_data()"
   ]
  },
  {
   "cell_type": "code",
   "execution_count": 4,
   "metadata": {
    "collapsed": true
   },
   "outputs": [],
   "source": [
    "def write_to_submission_file(prediction, filename):\n",
    "    submission = pd.read_csv(os.path.join(PATH_TO_DATA, 'sample_submission.csv'), \n",
    "                             index_col='id')\n",
    "    submission['log_recommends'] = prediction\n",
    "    submission.to_csv(os.path.join(PATH_TO_SUBMIT, filename))\n",
    "    \n",
    "def submit(model, X, y, transformers=None, test_name=None, name='submit'):\n",
    "    for ind in range(1, 1000):\n",
    "        name_with_ind = name + '_' + str(ind)\n",
    "        if name_with_ind not in os.listdir(PATH_TO_SUBMIT):\n",
    "            name = name_with_ind\n",
    "            break\n",
    "    print(name)\n",
    "    \n",
    "    model.fit(X, preproc(y))\n",
    "    predict = predict_from_file(model, transformers, test_name)\n",
    "    write_to_submission_file(predict, name)\n",
    "    log(X=X, model=model, status='submit {}'.format(name))\n",
    "    return predict"
   ]
  },
  {
   "cell_type": "code",
   "execution_count": 5,
   "metadata": {
    "collapsed": true
   },
   "outputs": [],
   "source": [
    "def predict_from_file(model, transformers, file_name):\n",
    "    return [postproc(\n",
    "                model.predict(\n",
    "                    generate_all_features(pd.DataFrame([data]), \n",
    "                                          transformers=transformers)[0]\n",
    "                )[0]\n",
    "            )\n",
    "            for data in read_iter(file_name)]"
   ]
  },
  {
   "cell_type": "code",
   "execution_count": 6,
   "metadata": {
    "collapsed": true
   },
   "outputs": [],
   "source": [
    "def read_json_line(line=None):\n",
    "    result = None\n",
    "    try:        \n",
    "        result = json.loads(line)\n",
    "    except Exception as e:\n",
    "        idx_to_replace = int(str(e).split(' ')[-1].replace(')',''))     \n",
    "        new_line = list(line)\n",
    "        new_line[idx_to_replace] = ' '\n",
    "        new_line = ''.join(new_line)     \n",
    "        return read_json_line(line=new_line)\n",
    "    return result"
   ]
  },
  {
   "cell_type": "code",
   "execution_count": 7,
   "metadata": {
    "collapsed": true
   },
   "outputs": [],
   "source": [
    "def extract_info(line):\n",
    "    return {\n",
    "        #'text': line['content'],\n",
    "        'timestamp': line['_timestamp'],\n",
    "        'content': line['content'],\n",
    "        'text': strip_tags(line['content'] \\\n",
    "                           .replace('\\n', ' ') \\\n",
    "                           .replace('\\r', ' ')),\n",
    "        'image_url': line['image_url'],\n",
    "        'description': line['meta_tags']['description'],\n",
    "        'title': line['title'],\n",
    "        'date': pd.to_datetime(line['published']['$date']),\n",
    "        'author_url': line['author']['url'],\n",
    "        'author_twitter': line['author']['twitter'],\n",
    "        'url': line['url'],\n",
    "        'id': line['_id']\n",
    "    }\n",
    "\n",
    "\n",
    "def read_iter(path_to_inp_json_file, count=None):\n",
    "    if count is None:\n",
    "        with open(path_to_inp_json_file) as fl:\n",
    "            count = sum(1 for line in fl)\n",
    "    with open(path_to_inp_json_file, encoding='utf-8') as inp_file:\n",
    "        for line in tqdm_notebook(itertools.islice(inp_file, count), total=count):\n",
    "            yield extract_info(read_json_line(line))\n",
    "\n",
    "            \n",
    "def read_all(path_to_inp_json_file, count=None):\n",
    "    return pd.DataFrame(read_iter(path_to_inp_json_file, count))"
   ]
  },
  {
   "cell_type": "code",
   "execution_count": 9,
   "metadata": {
    "scrolled": true
   },
   "outputs": [
    {
     "data": {
      "application/vnd.jupyter.widget-view+json": {
       "model_id": "033e2b85848648839cc7b20f514c79dd",
       "version_major": 2,
       "version_minor": 0
      },
      "text/plain": [
       "A Jupyter Widget"
      ]
     },
     "metadata": {},
     "output_type": "display_data"
    },
    {
     "name": "stdout",
     "output_type": "stream",
     "text": [
      "\n"
     ]
    },
    {
     "data": {
      "text/html": [
       "<div>\n",
       "<style scoped>\n",
       "    .dataframe tbody tr th:only-of-type {\n",
       "        vertical-align: middle;\n",
       "    }\n",
       "\n",
       "    .dataframe tbody tr th {\n",
       "        vertical-align: top;\n",
       "    }\n",
       "\n",
       "    .dataframe thead th {\n",
       "        text-align: right;\n",
       "    }\n",
       "</style>\n",
       "<table border=\"1\" class=\"dataframe\">\n",
       "  <thead>\n",
       "    <tr style=\"text-align: right;\">\n",
       "      <th></th>\n",
       "      <th>author_twitter</th>\n",
       "      <th>author_url</th>\n",
       "      <th>content</th>\n",
       "      <th>date</th>\n",
       "      <th>description</th>\n",
       "      <th>id</th>\n",
       "      <th>image_url</th>\n",
       "      <th>text</th>\n",
       "      <th>timestamp</th>\n",
       "      <th>title</th>\n",
       "      <th>url</th>\n",
       "    </tr>\n",
       "  </thead>\n",
       "  <tbody>\n",
       "    <tr>\n",
       "      <th>0</th>\n",
       "      <td>@Medium</td>\n",
       "      <td>https://medium.com/@Medium</td>\n",
       "      <td>&lt;div&gt;&lt;header class=\"container u-maxWidth740\"&gt;&lt;...</td>\n",
       "      <td>2012-08-13 22:54:53.510</td>\n",
       "      <td>These Terms of Service (“Terms”) are a contrac...</td>\n",
       "      <td>https://medium.com/policy/medium-terms-of-serv...</td>\n",
       "      <td>None</td>\n",
       "      <td>MediumEveryone’s stories and ideasAug 13, 2012...</td>\n",
       "      <td>1.520035e+09</td>\n",
       "      <td>Medium Terms of Service – Medium Policy – Medium</td>\n",
       "      <td>https://medium.com/policy/medium-terms-of-serv...</td>\n",
       "    </tr>\n",
       "    <tr>\n",
       "      <th>1</th>\n",
       "      <td>@Medium</td>\n",
       "      <td>https://medium.com/@Medium</td>\n",
       "      <td>&lt;div&gt;&lt;header class=\"container u-maxWidth740\"&gt;&lt;...</td>\n",
       "      <td>2015-08-03 07:44:50.331</td>\n",
       "      <td>This agreement (“Amendment”) is an amendment t...</td>\n",
       "      <td>https://medium.com/policy/amendment-to-medium-...</td>\n",
       "      <td>None</td>\n",
       "      <td>MediumEveryone’s stories and ideasAug 2, 2015 ...</td>\n",
       "      <td>1.519336e+09</td>\n",
       "      <td>Amendment to Medium Terms of Service Applicabl...</td>\n",
       "      <td>https://medium.com/policy/amendment-to-medium-...</td>\n",
       "    </tr>\n",
       "    <tr>\n",
       "      <th>2</th>\n",
       "      <td>@aelcenganda</td>\n",
       "      <td>https://medium.com/@aelcenganda</td>\n",
       "      <td>&lt;div&gt;&lt;header class=\"container u-maxWidth740\"&gt;&lt;...</td>\n",
       "      <td>2017-02-05 13:08:17.410</td>\n",
       "      <td>閩東海濱是個山接海的地方，沿海是小小的灣澳錯落，漁船或遠或近地停泊。當我們沿著海邊走時，羅士...</td>\n",
       "      <td>https://medium.com/@aelcenganda/%E9%96%A9%E6%9...</td>\n",
       "      <td>https://cdn-images-1.medium.com/max/1200/1*k9f...</td>\n",
       "      <td>Yun-Chen Chien（簡韻真）Nobody in @g0v.tw, PM in se...</td>\n",
       "      <td>1.519336e+09</td>\n",
       "      <td>走入山與海之間：閩東大刀會和兩岸走私 – Yun-Chen Chien（簡韻真） – Medium</td>\n",
       "      <td>https://medium.com/@aelcenganda/%E9%96%A9%E6%9...</td>\n",
       "    </tr>\n",
       "    <tr>\n",
       "      <th>3</th>\n",
       "      <td>@vaibhav_khulbe</td>\n",
       "      <td>https://medium.com/@vaibhavkhulbe</td>\n",
       "      <td>&lt;div&gt;&lt;header class=\"container u-maxWidth740\"&gt;&lt;...</td>\n",
       "      <td>2017-05-06 08:16:30.776</td>\n",
       "      <td>Answer this question yourself. What’s the high...</td>\n",
       "      <td>https://medium.com/what-comes-to-mind/how-fast...</td>\n",
       "      <td>https://cdn-images-1.medium.com/max/1200/1*6UZ...</td>\n",
       "      <td>Vaibhav KhulbeAndroid App Developer | I write ...</td>\n",
       "      <td>1.519337e+09</td>\n",
       "      <td>How fast can a camera get? – What comes to min...</td>\n",
       "      <td>https://medium.com/what-comes-to-mind/how-fast...</td>\n",
       "    </tr>\n",
       "    <tr>\n",
       "      <th>4</th>\n",
       "      <td>@vaibhav_khulbe</td>\n",
       "      <td>https://medium.com/@vaibhavkhulbe</td>\n",
       "      <td>&lt;div&gt;&lt;header class=\"container u-maxWidth740\"&gt;&lt;...</td>\n",
       "      <td>2017-06-04 14:46:25.772</td>\n",
       "      <td>At this point you must be wary about my brain’...</td>\n",
       "      <td>https://medium.com/what-comes-to-mind/a-game-f...</td>\n",
       "      <td>https://cdn-images-1.medium.com/max/1200/1*liU...</td>\n",
       "      <td>Vaibhav KhulbeAndroid App Developer | I write ...</td>\n",
       "      <td>1.519337e+09</td>\n",
       "      <td>A game for the lonely fox – What comes to mind...</td>\n",
       "      <td>https://medium.com/what-comes-to-mind/a-game-f...</td>\n",
       "    </tr>\n",
       "    <tr>\n",
       "      <th>5</th>\n",
       "      <td>@PettyKate</td>\n",
       "      <td>https://medium.com/@pettykate</td>\n",
       "      <td>&lt;div&gt;&lt;header class=\"container u-maxWidth740\"&gt;&lt;...</td>\n",
       "      <td>2017-04-02 16:21:15.171</td>\n",
       "      <td>I got the idea while reading this Leah Finnega...</td>\n",
       "      <td>https://medium.com/@pettykate/now-thats-comedy...</td>\n",
       "      <td>https://cdn-images-1.medium.com/max/1200/1*Jl2...</td>\n",
       "      <td>Kate Reed Pettyi like you. pettykate.comApr 2,...</td>\n",
       "      <td>1.519769e+09</td>\n",
       "      <td>Now That’s Comedy – Kate Reed Petty – Medium</td>\n",
       "      <td>https://medium.com/@pettykate/now-thats-comedy...</td>\n",
       "    </tr>\n",
       "    <tr>\n",
       "      <th>6</th>\n",
       "      <td>@exedre</td>\n",
       "      <td>https://medium.com/@exedre</td>\n",
       "      <td>&lt;div&gt;&lt;header class=\"container u-maxWidth740\"&gt;&lt;...</td>\n",
       "      <td>2016-08-15 04:16:02.103</td>\n",
       "      <td>Un grande segreto e non sto parlando degli ali...</td>\n",
       "      <td>https://medium.com/@exedre/che-fine-ha-fatto-g...</td>\n",
       "      <td>https://cdn-images-1.medium.com/max/1200/1*W1M...</td>\n",
       "      <td>exedreauthor ● about.me/exedre ● esomma@ieee.o...</td>\n",
       "      <td>1.519336e+09</td>\n",
       "      <td>Che fine ha fatto «Gola Profonda»? – exedre – ...</td>\n",
       "      <td>https://medium.com/@exedre/che-fine-ha-fatto-g...</td>\n",
       "    </tr>\n",
       "    <tr>\n",
       "      <th>7</th>\n",
       "      <td>@RaghavHaran</td>\n",
       "      <td>https://medium.com/@RaghavHaran</td>\n",
       "      <td>&lt;div&gt;&lt;header class=\"container u-maxWidth740\"&gt;&lt;...</td>\n",
       "      <td>2015-01-14 21:31:07.568</td>\n",
       "      <td>Working professionals aged 24–35 who travel fr...</td>\n",
       "      <td>https://medium.com/interactive-mind/airbnb-gue...</td>\n",
       "      <td>https://cdn-images-1.medium.com/max/1200/1*y4U...</td>\n",
       "      <td>Raghav HaranHelping ambitious people build car...</td>\n",
       "      <td>1.519655e+09</td>\n",
       "      <td>Airbnb Guerilla Usability Testing – Interactiv...</td>\n",
       "      <td>https://medium.com/interactive-mind/airbnb-gue...</td>\n",
       "    </tr>\n",
       "    <tr>\n",
       "      <th>8</th>\n",
       "      <td>@___fl</td>\n",
       "      <td>https://medium.com/@___fl</td>\n",
       "      <td>&lt;div&gt;&lt;header class=\"container u-maxWidth740\"&gt;&lt;...</td>\n",
       "      <td>2014-02-11 04:11:54.771</td>\n",
       "      <td>Dropbox is a great product, but a quick usabil...</td>\n",
       "      <td>https://medium.com/bridge-collection/a-guerill...</td>\n",
       "      <td>https://cdn-images-1.medium.com/max/1200/1*A88...</td>\n",
       "      <td>Francine LeeUX + Visual: http://francine.ioFeb...</td>\n",
       "      <td>1.519767e+09</td>\n",
       "      <td>A Guerilla Usability Test on Dropbox Photos – ...</td>\n",
       "      <td>https://medium.com/bridge-collection/a-guerill...</td>\n",
       "    </tr>\n",
       "    <tr>\n",
       "      <th>9</th>\n",
       "      <td>@RaghavHaran</td>\n",
       "      <td>https://medium.com/@RaghavHaran</td>\n",
       "      <td>&lt;div&gt;&lt;header class=\"container u-maxWidth740\"&gt;&lt;...</td>\n",
       "      <td>2015-10-25 02:58:05.551</td>\n",
       "      <td>Maybe it’s just because I’m from the Midwest. ...</td>\n",
       "      <td>https://medium.com/the-mission/how-to-get-any-...</td>\n",
       "      <td>https://cdn-images-1.medium.com/max/1200/1*NlL...</td>\n",
       "      <td>Raghav HaranHelping ambitious people build car...</td>\n",
       "      <td>1.520072e+09</td>\n",
       "      <td>How to Get Any Job You Want (even if you’re un...</td>\n",
       "      <td>https://medium.com/the-mission/how-to-get-any-...</td>\n",
       "    </tr>\n",
       "  </tbody>\n",
       "</table>\n",
       "</div>"
      ],
      "text/plain": [
       "    author_twitter                         author_url  \\\n",
       "0          @Medium         https://medium.com/@Medium   \n",
       "1          @Medium         https://medium.com/@Medium   \n",
       "2     @aelcenganda    https://medium.com/@aelcenganda   \n",
       "3  @vaibhav_khulbe  https://medium.com/@vaibhavkhulbe   \n",
       "4  @vaibhav_khulbe  https://medium.com/@vaibhavkhulbe   \n",
       "5       @PettyKate      https://medium.com/@pettykate   \n",
       "6          @exedre         https://medium.com/@exedre   \n",
       "7     @RaghavHaran    https://medium.com/@RaghavHaran   \n",
       "8           @___fl          https://medium.com/@___fl   \n",
       "9     @RaghavHaran    https://medium.com/@RaghavHaran   \n",
       "\n",
       "                                             content                    date  \\\n",
       "0  <div><header class=\"container u-maxWidth740\"><... 2012-08-13 22:54:53.510   \n",
       "1  <div><header class=\"container u-maxWidth740\"><... 2015-08-03 07:44:50.331   \n",
       "2  <div><header class=\"container u-maxWidth740\"><... 2017-02-05 13:08:17.410   \n",
       "3  <div><header class=\"container u-maxWidth740\"><... 2017-05-06 08:16:30.776   \n",
       "4  <div><header class=\"container u-maxWidth740\"><... 2017-06-04 14:46:25.772   \n",
       "5  <div><header class=\"container u-maxWidth740\"><... 2017-04-02 16:21:15.171   \n",
       "6  <div><header class=\"container u-maxWidth740\"><... 2016-08-15 04:16:02.103   \n",
       "7  <div><header class=\"container u-maxWidth740\"><... 2015-01-14 21:31:07.568   \n",
       "8  <div><header class=\"container u-maxWidth740\"><... 2014-02-11 04:11:54.771   \n",
       "9  <div><header class=\"container u-maxWidth740\"><... 2015-10-25 02:58:05.551   \n",
       "\n",
       "                                         description  \\\n",
       "0  These Terms of Service (“Terms”) are a contrac...   \n",
       "1  This agreement (“Amendment”) is an amendment t...   \n",
       "2  閩東海濱是個山接海的地方，沿海是小小的灣澳錯落，漁船或遠或近地停泊。當我們沿著海邊走時，羅士...   \n",
       "3  Answer this question yourself. What’s the high...   \n",
       "4  At this point you must be wary about my brain’...   \n",
       "5  I got the idea while reading this Leah Finnega...   \n",
       "6  Un grande segreto e non sto parlando degli ali...   \n",
       "7  Working professionals aged 24–35 who travel fr...   \n",
       "8  Dropbox is a great product, but a quick usabil...   \n",
       "9  Maybe it’s just because I’m from the Midwest. ...   \n",
       "\n",
       "                                                  id  \\\n",
       "0  https://medium.com/policy/medium-terms-of-serv...   \n",
       "1  https://medium.com/policy/amendment-to-medium-...   \n",
       "2  https://medium.com/@aelcenganda/%E9%96%A9%E6%9...   \n",
       "3  https://medium.com/what-comes-to-mind/how-fast...   \n",
       "4  https://medium.com/what-comes-to-mind/a-game-f...   \n",
       "5  https://medium.com/@pettykate/now-thats-comedy...   \n",
       "6  https://medium.com/@exedre/che-fine-ha-fatto-g...   \n",
       "7  https://medium.com/interactive-mind/airbnb-gue...   \n",
       "8  https://medium.com/bridge-collection/a-guerill...   \n",
       "9  https://medium.com/the-mission/how-to-get-any-...   \n",
       "\n",
       "                                           image_url  \\\n",
       "0                                               None   \n",
       "1                                               None   \n",
       "2  https://cdn-images-1.medium.com/max/1200/1*k9f...   \n",
       "3  https://cdn-images-1.medium.com/max/1200/1*6UZ...   \n",
       "4  https://cdn-images-1.medium.com/max/1200/1*liU...   \n",
       "5  https://cdn-images-1.medium.com/max/1200/1*Jl2...   \n",
       "6  https://cdn-images-1.medium.com/max/1200/1*W1M...   \n",
       "7  https://cdn-images-1.medium.com/max/1200/1*y4U...   \n",
       "8  https://cdn-images-1.medium.com/max/1200/1*A88...   \n",
       "9  https://cdn-images-1.medium.com/max/1200/1*NlL...   \n",
       "\n",
       "                                                text     timestamp  \\\n",
       "0  MediumEveryone’s stories and ideasAug 13, 2012...  1.520035e+09   \n",
       "1  MediumEveryone’s stories and ideasAug 2, 2015 ...  1.519336e+09   \n",
       "2  Yun-Chen Chien（簡韻真）Nobody in @g0v.tw, PM in se...  1.519336e+09   \n",
       "3  Vaibhav KhulbeAndroid App Developer | I write ...  1.519337e+09   \n",
       "4  Vaibhav KhulbeAndroid App Developer | I write ...  1.519337e+09   \n",
       "5  Kate Reed Pettyi like you. pettykate.comApr 2,...  1.519769e+09   \n",
       "6  exedreauthor ● about.me/exedre ● esomma@ieee.o...  1.519336e+09   \n",
       "7  Raghav HaranHelping ambitious people build car...  1.519655e+09   \n",
       "8  Francine LeeUX + Visual: http://francine.ioFeb...  1.519767e+09   \n",
       "9  Raghav HaranHelping ambitious people build car...  1.520072e+09   \n",
       "\n",
       "                                               title  \\\n",
       "0   Medium Terms of Service – Medium Policy – Medium   \n",
       "1  Amendment to Medium Terms of Service Applicabl...   \n",
       "2  走入山與海之間：閩東大刀會和兩岸走私 – Yun-Chen Chien（簡韻真） – Medium   \n",
       "3  How fast can a camera get? – What comes to min...   \n",
       "4  A game for the lonely fox – What comes to mind...   \n",
       "5       Now That’s Comedy – Kate Reed Petty – Medium   \n",
       "6  Che fine ha fatto «Gola Profonda»? – exedre – ...   \n",
       "7  Airbnb Guerilla Usability Testing – Interactiv...   \n",
       "8  A Guerilla Usability Test on Dropbox Photos – ...   \n",
       "9  How to Get Any Job You Want (even if you’re un...   \n",
       "\n",
       "                                                 url  \n",
       "0  https://medium.com/policy/medium-terms-of-serv...  \n",
       "1  https://medium.com/policy/amendment-to-medium-...  \n",
       "2  https://medium.com/@aelcenganda/%E9%96%A9%E6%9...  \n",
       "3  https://medium.com/what-comes-to-mind/how-fast...  \n",
       "4  https://medium.com/what-comes-to-mind/a-game-f...  \n",
       "5  https://medium.com/@pettykate/now-thats-comedy...  \n",
       "6  https://medium.com/@exedre/che-fine-ha-fatto-g...  \n",
       "7  https://medium.com/interactive-mind/airbnb-gue...  \n",
       "8  https://medium.com/bridge-collection/a-guerill...  \n",
       "9  https://medium.com/the-mission/how-to-get-any-...  "
      ]
     },
     "execution_count": 9,
     "metadata": {},
     "output_type": "execute_result"
    }
   ],
   "source": [
    "read_all(path_to_inp_json_file=PATH_TO_TRAIN_JSON, count=10)"
   ]
  },
  {
   "cell_type": "code",
   "execution_count": 16,
   "metadata": {
    "collapsed": true
   },
   "outputs": [],
   "source": [
    "train_time = pd.read_csv(os.path.join(PATH_TO_DATA, 'time.csv'), index_col=0)\n",
    "train_content = pd.read_csv(os.path.join(PATH_TO_DATA, 'content.csv'), index_col=0)\n",
    "train_df_z = pd.concat((train_time,train_content), axis=1)\n",
    "train_df['target'] = pd.read_csv(os.path.join(PATH_TO_DATA, 'train_log1p_recommends.csv'), \n",
    "                                 index_col='id')['log_recommends'].values[:train_df.shape[0]]"
   ]
  },
  {
   "cell_type": "code",
   "execution_count": 8,
   "metadata": {
    "scrolled": true
   },
   "outputs": [
    {
     "data": {
      "application/vnd.jupyter.widget-view+json": {
       "model_id": "87ab61ab2a1d4a4d88f6bca64d092b94",
       "version_major": 2,
       "version_minor": 0
      },
      "text/plain": [
       "A Jupyter Widget"
      ]
     },
     "metadata": {},
     "output_type": "display_data"
    },
    {
     "name": "stdout",
     "output_type": "stream",
     "text": [
      "\n",
      "CPU times: user 2min 34s, sys: 3.16 s, total: 2min 37s\n",
      "Wall time: 2min 39s\n"
     ]
    }
   ],
   "source": [
    "%%time\n",
    "train_df = read_all(path_to_inp_json_file=PATH_TO_TRAIN_JSON, count=20000)"
   ]
  },
  {
   "cell_type": "code",
   "execution_count": 9,
   "metadata": {},
   "outputs": [
    {
     "data": {
      "application/vnd.jupyter.widget-view+json": {
       "model_id": "0c082814daf14c46bdff53216b542985",
       "version_major": 2,
       "version_minor": 0
      },
      "text/plain": [
       "A Jupyter Widget"
      ]
     },
     "metadata": {},
     "output_type": "display_data"
    },
    {
     "name": "stdout",
     "output_type": "stream",
     "text": [
      "\n",
      "CPU times: user 7.56 s, sys: 140 ms, total: 7.7 s\n",
      "Wall time: 7.71 s\n"
     ]
    }
   ],
   "source": [
    "%%time\n",
    "test_df = read_all(path_to_inp_json_file=PATH_TO_TEST_JSON, count=1000)"
   ]
  },
  {
   "cell_type": "markdown",
   "metadata": {},
   "source": [
    "%%time\n",
    "big_test_df = read_all(path_to_inp_json_file=PATH_TO_TEST_JSON)"
   ]
  },
  {
   "cell_type": "code",
   "execution_count": 10,
   "metadata": {
    "collapsed": true
   },
   "outputs": [],
   "source": [
    "train_df['target'] = pd.read_csv(os.path.join(PATH_TO_DATA, 'train_log1p_recommends.csv'), \n",
    "                                 index_col='id')['log_recommends'].values[:train_df.shape[0]]"
   ]
  },
  {
   "cell_type": "code",
   "execution_count": 11,
   "metadata": {
    "collapsed": true
   },
   "outputs": [],
   "source": [
    "train_df = train_df.sort_values(by='date')\n",
    "test_df = train_df.sort_values(by='date')"
   ]
  },
  {
   "cell_type": "code",
   "execution_count": 12,
   "metadata": {
    "collapsed": true
   },
   "outputs": [],
   "source": [
    "y = train_df['target']\n",
    "train_df = train_df.drop('target', axis=1)"
   ]
  },
  {
   "cell_type": "code",
   "execution_count": 13,
   "metadata": {},
   "outputs": [
    {
     "data": {
      "text/html": [
       "<div>\n",
       "<style scoped>\n",
       "    .dataframe tbody tr th:only-of-type {\n",
       "        vertical-align: middle;\n",
       "    }\n",
       "\n",
       "    .dataframe tbody tr th {\n",
       "        vertical-align: top;\n",
       "    }\n",
       "\n",
       "    .dataframe thead th {\n",
       "        text-align: right;\n",
       "    }\n",
       "</style>\n",
       "<table border=\"1\" class=\"dataframe\">\n",
       "  <thead>\n",
       "    <tr style=\"text-align: right;\">\n",
       "      <th></th>\n",
       "      <th>author_twitter</th>\n",
       "      <th>author_url</th>\n",
       "      <th>content</th>\n",
       "      <th>date</th>\n",
       "      <th>description</th>\n",
       "      <th>id</th>\n",
       "      <th>image_url</th>\n",
       "      <th>text</th>\n",
       "      <th>timestamp</th>\n",
       "      <th>title</th>\n",
       "      <th>url</th>\n",
       "    </tr>\n",
       "  </thead>\n",
       "  <tbody>\n",
       "    <tr>\n",
       "      <th>13771</th>\n",
       "      <td>@cityofsound</td>\n",
       "      <td>https://medium.com/@cityofsound</td>\n",
       "      <td>&lt;div&gt;&lt;header class=\"container u-maxWidth740\"&gt;&lt;...</td>\n",
       "      <td>2004-12-20 00:00:00</td>\n",
       "      <td>A portmanteau post loosely arranged around Los...</td>\n",
       "      <td>https://medium.com/iamacamera/los-angeles-gran...</td>\n",
       "      <td>https://cdn-images-1.medium.com/max/1200/1*y7f...</td>\n",
       "      <td>Dan HillDesigner, urbanist, etc. Associate Dir...</td>\n",
       "      <td>1.519643e+09</td>\n",
       "      <td>Los Angeles: Grand Theft Reality – I am a came...</td>\n",
       "      <td>http://www.cityofsound.com/blog/2004/12/los_an...</td>\n",
       "    </tr>\n",
       "    <tr>\n",
       "      <th>1539</th>\n",
       "      <td>@GrrlScientist</td>\n",
       "      <td>https://medium.com/@GrrlScientist</td>\n",
       "      <td>&lt;div&gt;&lt;header class=\"container u-maxWidth740\"&gt;&lt;...</td>\n",
       "      <td>2005-01-02 00:00:00</td>\n",
       "      <td>Thanks to rampant destruction of mangrove fore...</td>\n",
       "      <td>https://medium.com/@GrrlScientist/tsunamis-and...</td>\n",
       "      <td>https://cdn-images-1.medium.com/max/1200/1*Jyg...</td>\n",
       "      <td>GrrlScientistEvolutionary ecologist &amp; ornithol...</td>\n",
       "      <td>1.519338e+09</td>\n",
       "      <td>Tsunamis and Mangroves: The Shrimp Connection ...</td>\n",
       "      <td>http://girlscientist.blogspot.de/2005/01/tsuna...</td>\n",
       "    </tr>\n",
       "    <tr>\n",
       "      <th>4782</th>\n",
       "      <td>@cityofsound</td>\n",
       "      <td>https://medium.com/@cityofsound</td>\n",
       "      <td>&lt;div&gt;&lt;header class=\"container u-maxWidth740\"&gt;&lt;...</td>\n",
       "      <td>2006-05-23 11:48:00</td>\n",
       "      <td>Over a decade later, I still look back at this...</td>\n",
       "      <td>https://medium.com/a-chair-in-a-room/architect...</td>\n",
       "      <td>https://cdn-images-1.medium.com/max/1200/1*XJ6...</td>\n",
       "      <td>Dan HillDesigner, urbanist, etc. Associate Dir...</td>\n",
       "      <td>1.519692e+09</td>\n",
       "      <td>Architecture and interaction design, via adapt...</td>\n",
       "      <td>https://medium.com/a-chair-in-a-room/architect...</td>\n",
       "    </tr>\n",
       "  </tbody>\n",
       "</table>\n",
       "</div>"
      ],
      "text/plain": [
       "       author_twitter                         author_url  \\\n",
       "13771    @cityofsound    https://medium.com/@cityofsound   \n",
       "1539   @GrrlScientist  https://medium.com/@GrrlScientist   \n",
       "4782     @cityofsound    https://medium.com/@cityofsound   \n",
       "\n",
       "                                                 content                date  \\\n",
       "13771  <div><header class=\"container u-maxWidth740\"><... 2004-12-20 00:00:00   \n",
       "1539   <div><header class=\"container u-maxWidth740\"><... 2005-01-02 00:00:00   \n",
       "4782   <div><header class=\"container u-maxWidth740\"><... 2006-05-23 11:48:00   \n",
       "\n",
       "                                             description  \\\n",
       "13771  A portmanteau post loosely arranged around Los...   \n",
       "1539   Thanks to rampant destruction of mangrove fore...   \n",
       "4782   Over a decade later, I still look back at this...   \n",
       "\n",
       "                                                      id  \\\n",
       "13771  https://medium.com/iamacamera/los-angeles-gran...   \n",
       "1539   https://medium.com/@GrrlScientist/tsunamis-and...   \n",
       "4782   https://medium.com/a-chair-in-a-room/architect...   \n",
       "\n",
       "                                               image_url  \\\n",
       "13771  https://cdn-images-1.medium.com/max/1200/1*y7f...   \n",
       "1539   https://cdn-images-1.medium.com/max/1200/1*Jyg...   \n",
       "4782   https://cdn-images-1.medium.com/max/1200/1*XJ6...   \n",
       "\n",
       "                                                    text     timestamp  \\\n",
       "13771  Dan HillDesigner, urbanist, etc. Associate Dir...  1.519643e+09   \n",
       "1539   GrrlScientistEvolutionary ecologist & ornithol...  1.519338e+09   \n",
       "4782   Dan HillDesigner, urbanist, etc. Associate Dir...  1.519692e+09   \n",
       "\n",
       "                                                   title  \\\n",
       "13771  Los Angeles: Grand Theft Reality – I am a came...   \n",
       "1539   Tsunamis and Mangroves: The Shrimp Connection ...   \n",
       "4782   Architecture and interaction design, via adapt...   \n",
       "\n",
       "                                                     url  \n",
       "13771  http://www.cityofsound.com/blog/2004/12/los_an...  \n",
       "1539   http://girlscientist.blogspot.de/2005/01/tsuna...  \n",
       "4782   https://medium.com/a-chair-in-a-room/architect...  "
      ]
     },
     "execution_count": 13,
     "metadata": {},
     "output_type": "execute_result"
    }
   ],
   "source": [
    "train_df.head(3)"
   ]
  },
  {
   "cell_type": "code",
   "execution_count": 14,
   "metadata": {
    "collapsed": true
   },
   "outputs": [],
   "source": [
    "def load_tfidf():\n",
    "    with open(os.path.join(PATH_TO_DATA, 'TF.pickle'), 'rb') as fl:\n",
    "        return pickle.load(fl)"
   ]
  },
  {
   "cell_type": "code",
   "execution_count": 15,
   "metadata": {
    "collapsed": true
   },
   "outputs": [],
   "source": [
    "def extract_text(data):\n",
    "    return data['text']\n",
    "\n",
    "\n",
    "def generate_categorical_features(data):\n",
    "    pass\n",
    "\n",
    "\n",
    "def generate_continuous_features(data):\n",
    "    pass\n",
    "\n",
    "\n",
    "def generate_all_features(data, y=None, transformers=None, X_test=None):\n",
    "    description = ''\n",
    "    #X_cat_time = generate_cat_time_features(data)\n",
    "    #X_count_time = generate_count_time_features(data)\n",
    "    X_text = extract_text(data)\n",
    "    \n",
    "    #description += 'Features_cat_time: {}\\n'.format(X_cat_time.DESCRIPTION)\n",
    "    #description += 'Features_count_time: {}\\n'.format(X_count_time.DESCRIPTION)\n",
    "    \n",
    "    if not transformers:\n",
    "        transformers = {}\n",
    "    \n",
    "    \n",
    "    if 'vecorizer' not in transformers:\n",
    "        transformers['vecorizer'] = load_tfidf()\n",
    "    X_text_csr = transformers['vecorizer'].transform(X_text).astype('float32')\n",
    "    description += '{}: {}\\n'.format('vecorizer', transformers['vecorizer'])\n",
    "    \n",
    "    \n",
    "    #if 'scaler' not in transformers:\n",
    "    #    transformers['scaler'] = StandardScaler().fit(X_count_time)\n",
    "    #X_count_time_csr = csr_matrix(\n",
    "    #    transformers['scaler'].transform(X_count_time))\n",
    "    #description += '{}: {}\\n'.format('scaler for count', transformers['scaler'])\n",
    "    \n",
    "    result = X_text_csr\n",
    "    #result = hstack((X_cat_time_csr, X_count_time_csr, X_text_csr)).tocsc()\n",
    "    result.DESCRIPTION = description\n",
    "    #result.ANOTATION = X_cat_time.columns.tolist()\n",
    "    #result.ANOTATION += X_count_time.columns.tolist()\n",
    "    return result, transformers"
   ]
  },
  {
   "cell_type": "code",
   "execution_count": 188,
   "metadata": {
    "collapsed": true
   },
   "outputs": [],
   "source": [
    "def log(file_name='temp_results.txt', last_action_file_name='last_action.txt',\n",
    "        X=None, model=None, score=None, status=None):\n",
    "    log_str = 'Status: {}\\n'.format(status)\n",
    "    \n",
    "    if score is not None:\n",
    "        log_str += 'Score = {}\\n\\n'.format(score)\n",
    "        \n",
    "    if model is not None:\n",
    "        log_str += 'Model:\\n{}\\n\\n'.format(model)\n",
    "        \n",
    "    if X is not None:\n",
    "        log_str += 'Features:\\n{}\\n'.format(X.DESCRIPTION)\n",
    "    \n",
    "    with open(file_name, 'a') as fl:\n",
    "        fl.write('-'*100 + '\\n');\n",
    "        fl.write(log_str)\n",
    "    \n",
    "    with open(last_action_file_name, 'w') as fl:\n",
    "        fl.write(log_str)\n",
    "        \n",
    "    return log_str\n",
    "\n",
    "def preproc(y):\n",
    "    return np.log(y)\n",
    "\n",
    "def postproc(y):\n",
    "    return np.exp(y)\n",
    "\n",
    "def score(model, X, y, X_test, y_test, write_log=True):\n",
    "    model.fit(X, preproc(y))\n",
    "    \n",
    "    predict = postproc(model.predict(X_test))\n",
    "    mae = mean_absolute_error(y_test, predict)\n",
    "    \n",
    "    if write_log:\n",
    "        log(model=model, \n",
    "            score=mae, \n",
    "            status='score', \n",
    "            X=X)\n",
    "        \n",
    "    return mae\n",
    "\n",
    "\n",
    "def cross_score(model, X, y, n_splits=8, n_test=3, margin=1, write_log=True):\n",
    "    l = len(y) // n_splits\n",
    "    mae = np.array([score(model, \n",
    "                          X[i*l:(i+n_test)*l], y[i*l:(i+n_test)*l],\n",
    "                          X[(i+n_test+margin)*l:], y[(i+n_test+margin)*l:],\n",
    "                          write_log=False)\n",
    "                    for i in range(n_splits - n_test - margin)])\n",
    "    \n",
    "    if write_log:\n",
    "        log(model=model, \n",
    "            score=mae,\n",
    "            status='score my fold: {}'.format((n_splits, n_test)), \n",
    "            X=X)\n",
    "        \n",
    "    return mae"
   ]
  },
  {
   "cell_type": "code",
   "execution_count": 63,
   "metadata": {
    "scrolled": true
   },
   "outputs": [
    {
     "ename": "KeyboardInterrupt",
     "evalue": "",
     "output_type": "error",
     "traceback": [
      "\u001b[0;31m---------------------------------------------------------------------------\u001b[0m",
      "\u001b[0;31mKeyboardInterrupt\u001b[0m                         Traceback (most recent call last)",
      "\u001b[0;32m<timed exec>\u001b[0m in \u001b[0;36m<module>\u001b[0;34m()\u001b[0m\n",
      "\u001b[0;32m<ipython-input-15-30513e8721c7>\u001b[0m in \u001b[0;36mgenerate_all_features\u001b[0;34m(data, y, transformers, X_test)\u001b[0m\n\u001b[1;32m     26\u001b[0m     \u001b[0;32mif\u001b[0m \u001b[0;34m'vecorizer'\u001b[0m \u001b[0;32mnot\u001b[0m \u001b[0;32min\u001b[0m \u001b[0mtransformers\u001b[0m\u001b[0;34m:\u001b[0m\u001b[0;34m\u001b[0m\u001b[0m\n\u001b[1;32m     27\u001b[0m         \u001b[0mtransformers\u001b[0m\u001b[0;34m[\u001b[0m\u001b[0;34m'vecorizer'\u001b[0m\u001b[0;34m]\u001b[0m \u001b[0;34m=\u001b[0m \u001b[0mload_tfidf\u001b[0m\u001b[0;34m(\u001b[0m\u001b[0;34m)\u001b[0m\u001b[0;34m\u001b[0m\u001b[0m\n\u001b[0;32m---> 28\u001b[0;31m     \u001b[0mX_text_csr\u001b[0m \u001b[0;34m=\u001b[0m \u001b[0mtransformers\u001b[0m\u001b[0;34m[\u001b[0m\u001b[0;34m'vecorizer'\u001b[0m\u001b[0;34m]\u001b[0m\u001b[0;34m.\u001b[0m\u001b[0mtransform\u001b[0m\u001b[0;34m(\u001b[0m\u001b[0mX_text\u001b[0m\u001b[0;34m)\u001b[0m\u001b[0;34m.\u001b[0m\u001b[0mastype\u001b[0m\u001b[0;34m(\u001b[0m\u001b[0;34m'float32'\u001b[0m\u001b[0;34m)\u001b[0m\u001b[0;34m\u001b[0m\u001b[0m\n\u001b[0m\u001b[1;32m     29\u001b[0m     \u001b[0mdescription\u001b[0m \u001b[0;34m+=\u001b[0m \u001b[0;34m'{}: {}\\n'\u001b[0m\u001b[0;34m.\u001b[0m\u001b[0mformat\u001b[0m\u001b[0;34m(\u001b[0m\u001b[0;34m'vecorizer'\u001b[0m\u001b[0;34m,\u001b[0m \u001b[0mtransformers\u001b[0m\u001b[0;34m[\u001b[0m\u001b[0;34m'vecorizer'\u001b[0m\u001b[0;34m]\u001b[0m\u001b[0;34m)\u001b[0m\u001b[0;34m\u001b[0m\u001b[0m\n\u001b[1;32m     30\u001b[0m \u001b[0;34m\u001b[0m\u001b[0m\n",
      "\u001b[0;32m~/anaconda3/lib/python3.6/site-packages/sklearn/feature_extraction/text.py\u001b[0m in \u001b[0;36mtransform\u001b[0;34m(self, raw_documents, copy)\u001b[0m\n\u001b[1;32m   1407\u001b[0m         \u001b[0mcheck_is_fitted\u001b[0m\u001b[0;34m(\u001b[0m\u001b[0mself\u001b[0m\u001b[0;34m,\u001b[0m \u001b[0;34m'_tfidf'\u001b[0m\u001b[0;34m,\u001b[0m \u001b[0;34m'The tfidf vector is not fitted'\u001b[0m\u001b[0;34m)\u001b[0m\u001b[0;34m\u001b[0m\u001b[0m\n\u001b[1;32m   1408\u001b[0m \u001b[0;34m\u001b[0m\u001b[0m\n\u001b[0;32m-> 1409\u001b[0;31m         \u001b[0mX\u001b[0m \u001b[0;34m=\u001b[0m \u001b[0msuper\u001b[0m\u001b[0;34m(\u001b[0m\u001b[0mTfidfVectorizer\u001b[0m\u001b[0;34m,\u001b[0m \u001b[0mself\u001b[0m\u001b[0;34m)\u001b[0m\u001b[0;34m.\u001b[0m\u001b[0mtransform\u001b[0m\u001b[0;34m(\u001b[0m\u001b[0mraw_documents\u001b[0m\u001b[0;34m)\u001b[0m\u001b[0;34m\u001b[0m\u001b[0m\n\u001b[0m\u001b[1;32m   1410\u001b[0m         \u001b[0;32mreturn\u001b[0m \u001b[0mself\u001b[0m\u001b[0;34m.\u001b[0m\u001b[0m_tfidf\u001b[0m\u001b[0;34m.\u001b[0m\u001b[0mtransform\u001b[0m\u001b[0;34m(\u001b[0m\u001b[0mX\u001b[0m\u001b[0;34m,\u001b[0m \u001b[0mcopy\u001b[0m\u001b[0;34m=\u001b[0m\u001b[0;32mFalse\u001b[0m\u001b[0;34m)\u001b[0m\u001b[0;34m\u001b[0m\u001b[0m\n",
      "\u001b[0;32m~/anaconda3/lib/python3.6/site-packages/sklearn/feature_extraction/text.py\u001b[0m in \u001b[0;36mtransform\u001b[0;34m(self, raw_documents)\u001b[0m\n\u001b[1;32m    921\u001b[0m \u001b[0;34m\u001b[0m\u001b[0m\n\u001b[1;32m    922\u001b[0m         \u001b[0;31m# use the same matrix-building strategy as fit_transform\u001b[0m\u001b[0;34m\u001b[0m\u001b[0;34m\u001b[0m\u001b[0m\n\u001b[0;32m--> 923\u001b[0;31m         \u001b[0m_\u001b[0m\u001b[0;34m,\u001b[0m \u001b[0mX\u001b[0m \u001b[0;34m=\u001b[0m \u001b[0mself\u001b[0m\u001b[0;34m.\u001b[0m\u001b[0m_count_vocab\u001b[0m\u001b[0;34m(\u001b[0m\u001b[0mraw_documents\u001b[0m\u001b[0;34m,\u001b[0m \u001b[0mfixed_vocab\u001b[0m\u001b[0;34m=\u001b[0m\u001b[0;32mTrue\u001b[0m\u001b[0;34m)\u001b[0m\u001b[0;34m\u001b[0m\u001b[0m\n\u001b[0m\u001b[1;32m    924\u001b[0m         \u001b[0;32mif\u001b[0m \u001b[0mself\u001b[0m\u001b[0;34m.\u001b[0m\u001b[0mbinary\u001b[0m\u001b[0;34m:\u001b[0m\u001b[0;34m\u001b[0m\u001b[0m\n\u001b[1;32m    925\u001b[0m             \u001b[0mX\u001b[0m\u001b[0;34m.\u001b[0m\u001b[0mdata\u001b[0m\u001b[0;34m.\u001b[0m\u001b[0mfill\u001b[0m\u001b[0;34m(\u001b[0m\u001b[0;36m1\u001b[0m\u001b[0;34m)\u001b[0m\u001b[0;34m\u001b[0m\u001b[0m\n",
      "\u001b[0;32m~/anaconda3/lib/python3.6/site-packages/sklearn/feature_extraction/text.py\u001b[0m in \u001b[0;36m_count_vocab\u001b[0;34m(self, raw_documents, fixed_vocab)\u001b[0m\n\u001b[1;32m    790\u001b[0m         \u001b[0;32mfor\u001b[0m \u001b[0mdoc\u001b[0m \u001b[0;32min\u001b[0m \u001b[0mraw_documents\u001b[0m\u001b[0;34m:\u001b[0m\u001b[0;34m\u001b[0m\u001b[0m\n\u001b[1;32m    791\u001b[0m             \u001b[0mfeature_counter\u001b[0m \u001b[0;34m=\u001b[0m \u001b[0;34m{\u001b[0m\u001b[0;34m}\u001b[0m\u001b[0;34m\u001b[0m\u001b[0m\n\u001b[0;32m--> 792\u001b[0;31m             \u001b[0;32mfor\u001b[0m \u001b[0mfeature\u001b[0m \u001b[0;32min\u001b[0m \u001b[0manalyze\u001b[0m\u001b[0;34m(\u001b[0m\u001b[0mdoc\u001b[0m\u001b[0;34m)\u001b[0m\u001b[0;34m:\u001b[0m\u001b[0;34m\u001b[0m\u001b[0m\n\u001b[0m\u001b[1;32m    793\u001b[0m                 \u001b[0;32mtry\u001b[0m\u001b[0;34m:\u001b[0m\u001b[0;34m\u001b[0m\u001b[0m\n\u001b[1;32m    794\u001b[0m                     \u001b[0mfeature_idx\u001b[0m \u001b[0;34m=\u001b[0m \u001b[0mvocabulary\u001b[0m\u001b[0;34m[\u001b[0m\u001b[0mfeature\u001b[0m\u001b[0;34m]\u001b[0m\u001b[0;34m\u001b[0m\u001b[0m\n",
      "\u001b[0;32m~/anaconda3/lib/python3.6/site-packages/sklearn/feature_extraction/text.py\u001b[0m in \u001b[0;36m<lambda>\u001b[0;34m(doc)\u001b[0m\n\u001b[1;32m    264\u001b[0m \u001b[0;34m\u001b[0m\u001b[0m\n\u001b[1;32m    265\u001b[0m             return lambda doc: self._word_ngrams(\n\u001b[0;32m--> 266\u001b[0;31m                 tokenize(preprocess(self.decode(doc))), stop_words)\n\u001b[0m\u001b[1;32m    267\u001b[0m \u001b[0;34m\u001b[0m\u001b[0m\n\u001b[1;32m    268\u001b[0m         \u001b[0;32melse\u001b[0m\u001b[0;34m:\u001b[0m\u001b[0;34m\u001b[0m\u001b[0m\n",
      "\u001b[0;32m~/anaconda3/lib/python3.6/site-packages/sklearn/feature_extraction/text.py\u001b[0m in \u001b[0;36m_word_ngrams\u001b[0;34m(self, tokens, stop_words)\u001b[0m\n\u001b[1;32m    149\u001b[0m                             min(max_n + 1, n_original_tokens + 1)):\n\u001b[1;32m    150\u001b[0m                 \u001b[0;32mfor\u001b[0m \u001b[0mi\u001b[0m \u001b[0;32min\u001b[0m \u001b[0mxrange\u001b[0m\u001b[0;34m(\u001b[0m\u001b[0mn_original_tokens\u001b[0m \u001b[0;34m-\u001b[0m \u001b[0mn\u001b[0m \u001b[0;34m+\u001b[0m \u001b[0;36m1\u001b[0m\u001b[0;34m)\u001b[0m\u001b[0;34m:\u001b[0m\u001b[0;34m\u001b[0m\u001b[0m\n\u001b[0;32m--> 151\u001b[0;31m                     \u001b[0mtokens_append\u001b[0m\u001b[0;34m(\u001b[0m\u001b[0mspace_join\u001b[0m\u001b[0;34m(\u001b[0m\u001b[0moriginal_tokens\u001b[0m\u001b[0;34m[\u001b[0m\u001b[0mi\u001b[0m\u001b[0;34m:\u001b[0m \u001b[0mi\u001b[0m \u001b[0;34m+\u001b[0m \u001b[0mn\u001b[0m\u001b[0;34m]\u001b[0m\u001b[0;34m)\u001b[0m\u001b[0;34m)\u001b[0m\u001b[0;34m\u001b[0m\u001b[0m\n\u001b[0m\u001b[1;32m    152\u001b[0m \u001b[0;34m\u001b[0m\u001b[0m\n\u001b[1;32m    153\u001b[0m         \u001b[0;32mreturn\u001b[0m \u001b[0mtokens\u001b[0m\u001b[0;34m\u001b[0m\u001b[0m\n",
      "\u001b[0;31mKeyboardInterrupt\u001b[0m: "
     ]
    }
   ],
   "source": [
    "%%time\n",
    "X, transformers = generate_all_features(train_df, y=y, X_test=test_df)"
   ]
  },
  {
   "cell_type": "code",
   "execution_count": 71,
   "metadata": {
    "collapsed": true
   },
   "outputs": [],
   "source": [
    "last_score = last_best_score = 100"
   ]
  },
  {
   "cell_type": "code",
   "execution_count": 173,
   "metadata": {},
   "outputs": [
    {
     "name": "stdout",
     "output_type": "stream",
     "text": [
      "1.32298732197\n",
      "[ 1.38197402  1.32233092  1.29506737  1.29257697]\n",
      "Diff with last: 0.05816363560866655\n",
      "Diff with best: 0.05816363560866655\n",
      "CPU times: user 12.5 s, sys: 512 ms, total: 13 s\n",
      "Wall time: 13 s\n"
     ]
    }
   ],
   "source": [
    "%%time\n",
    "model = Ridge(alpha=0.5, random_state=RAND)\n",
    "arr_score = cross_score(model, X, y, n_splits=7, n_test=2, margin=0)\n",
    "\n",
    "new_score = arr_score.mean()\n",
    "print(new_score)\n",
    "print(arr_score)\n",
    "\n",
    "print('Diff with last: {}'.format(new_score - last_score))\n",
    "print('Diff with best: {}'.format(new_score - last_best_score))\n",
    "last_score = new_score\n",
    "if last_best_score > new_score:\n",
    "    last_best_score = new_score"
   ]
  },
  {
   "cell_type": "code",
   "execution_count": 174,
   "metadata": {
    "collapsed": true
   },
   "outputs": [],
   "source": [
    "train_X, test_X, train_y, test_y  = train_test_split(X, y, shuffle=False)"
   ]
  },
  {
   "cell_type": "code",
   "execution_count": 175,
   "metadata": {
    "collapsed": true
   },
   "outputs": [],
   "source": [
    "model.fit(train_X, np.log(train_y))\n",
    "test_predict = np.exp(model.predict(test_X))"
   ]
  },
  {
   "cell_type": "code",
   "execution_count": 176,
   "metadata": {},
   "outputs": [
    {
     "data": {
      "image/png": "[encoded data removed]",
      "text/plain": [
       "<matplotlib.figure.Figure at 0x7f6a001790b8>"
      ]
     },
     "metadata": {},
     "output_type": "display_data"
    }
   ],
   "source": [
    "plt.hist(test_y, bins=30, alpha=.5, color='red', label='true', range=(0,10));\n",
    "plt.hist(test_predict, bins=30, alpha=.5, color='green', label='pred', range=(0,10));\n",
    "plt.legend();"
   ]
  },
  {
   "cell_type": "code",
   "execution_count": 102,
   "metadata": {
    "collapsed": true
   },
   "outputs": [],
   "source": [
    "mean_test = 4.33328\n",
    "test_count = 34645\n",
    "total = mean_test * 34645"
   ]
  },
  {
   "cell_type": "code",
   "execution_count": 107,
   "metadata": {},
   "outputs": [
    {
     "data": {
      "text/plain": [
       "6.623956449704143"
      ]
     },
     "execution_count": 107,
     "metadata": {},
     "output_type": "execute_result"
    }
   ],
   "source": [
    "(total - 35383.0) / (test_count / 2)"
   ]
  },
  {
   "cell_type": "code",
   "execution_count": 178,
   "metadata": {},
   "outputs": [
    {
     "data": {
      "application/vnd.jupyter.widget-view+json": {
       "model_id": "f9c08f2ab7f849dd8f25737e7e49bc28",
       "version_major": 2,
       "version_minor": 0
      },
      "text/plain": [
       "A Jupyter Widget"
      ]
     },
     "metadata": {},
     "output_type": "display_data"
    },
    {
     "name": "stdout",
     "output_type": "stream",
     "text": [
      "\n"
     ]
    },
    {
     "name": "stderr",
     "output_type": "stream",
     "text": [
      "Exception in thread Thread-6:\n",
      "Traceback (most recent call last):\n",
      "  File \"/home/josdas/anaconda3/lib/python3.6/threading.py\", line 916, in _bootstrap_inner\n",
      "    self.run()\n",
      "  File \"/home/josdas/anaconda3/lib/python3.6/site-packages/tqdm/_tqdm.py\", line 144, in run\n",
      "    for instance in self.tqdm_cls._instances:\n",
      "  File \"/home/josdas/anaconda3/lib/python3.6/_weakrefset.py\", line 60, in __iter__\n",
      "    for itemref in self.data:\n",
      "RuntimeError: Set changed size during iteration\n",
      "\n"
     ]
    },
    {
     "name": "stdout",
     "output_type": "stream",
     "text": [
      "\n"
     ]
    }
   ],
   "source": [
    "predict = predict_from_file(model, transformers, PATH_TO_TEST_JSON)"
   ]
  },
  {
   "cell_type": "code",
   "execution_count": 189,
   "metadata": {
    "collapsed": true
   },
   "outputs": [],
   "source": [
    "predict = np.array(predict)\n",
    "n_predict = predict.copy()\n",
    "for i in range(5):\n",
    "    n_predict[n_predict < 0.69315] = 0.69315\n",
    "    n_predict = n_predict - n_predict.mean() + 4.333\n",
    "n_predict.mean()"
   ]
  },
  {
   "cell_type": "code",
   "execution_count": 191,
   "metadata": {},
   "outputs": [
    {
     "data": {
      "image/png": "[encoded data removed]",
      "text/plain": [
       "<matplotlib.figure.Figure at 0x7f6a03b24358>"
      ]
     },
     "metadata": {},
     "output_type": "display_data"
    }
   ],
   "source": [
    "plt.hist(y, bins=30, alpha=.5, color='red', label='true', range=(0,10))\n",
    "plt.hist(predict, bins=30, alpha=.5, color='green', label='pred', range=(0,10))\n",
    "plt.hist(n_predict, bins=30, alpha=.5, color='yellow', label='new pred', range=(0,10))\n",
    "plt.legend();"
   ]
  },
  {
   "cell_type": "code",
   "execution_count": 187,
   "metadata": {
    "collapsed": true
   },
   "outputs": [],
   "source": [
    "write_to_submission_file(n_predict, 'submit')"
   ]
  },
  {
   "cell_type": "code",
   "execution_count": null,
   "metadata": {
    "collapsed": true
   },
   "outputs": [],
   "source": []
  }
 ],
 "metadata": {
  "kernelspec": {
   "display_name": "Python [default]",
   "language": "python",
   "name": "python3"
  },
  "language_info": {
   "codemirror_mode": {
    "name": "ipython",
    "version": 3
   },
   "file_extension": ".py",
   "mimetype": "text/x-python",
   "name": "python",
   "nbconvert_exporter": "python",
   "pygments_lexer": "ipython3",
   "version": "3.6.4"
  }
 },
 "nbformat": 4,
 "nbformat_minor": 2
}
