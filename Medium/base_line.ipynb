{
 "cells": [
  {
   "cell_type": "code",
   "execution_count": 1,
   "metadata": {
    "collapsed": true
   },
   "outputs": [],
   "source": [
    "import warnings\n",
    "warnings.filterwarnings('ignore')\n",
    "%matplotlib inline\n",
    "from matplotlib import pyplot as plt\n",
    "import seaborn as sns\n",
    "import os\n",
    "import numpy as np\n",
    "import pandas as pd\n",
    "import pickle\n",
    "from scipy.sparse import csr_matrix, hstack, vstack\n",
    "from functools import lru_cache\n",
    "import json\n",
    "from tqdm import tqdm_notebook, tnrange\n",
    "import itertools\n",
    "import re\n",
    "\n",
    "from sklearn.preprocessing import PolynomialFeatures\n",
    "from sklearn.preprocessing import StandardScaler, OneHotEncoder, MinMaxScaler\n",
    "from sklearn.model_selection import StratifiedKFold, train_test_split, KFold\n",
    "from sklearn.metrics import mean_absolute_error\n",
    "from sklearn.linear_model import LogisticRegression, LogisticRegressionCV, Ridge\n",
    "from sklearn.ensemble import GradientBoostingClassifier, GradientBoostingRegressor\n",
    "from sklearn.ensemble import RandomForestRegressor, AdaBoostRegressor\n",
    "from sklearn.neighbors import KNeighborsClassifier\n",
    "from sklearn.feature_extraction.text import TfidfVectorizer\n",
    "from sklearn.pipeline import Pipeline\n",
    "from sklearn.model_selection import cross_val_score\n",
    "from sklearn.feature_extraction.text import TfidfVectorizer, TfidfTransformer, CountVectorizer\n",
    "from sklearn.base import BaseEstimator\n",
    "from sklearn.ensemble import BaggingClassifier\n",
    "from sklearn.feature_extraction.text import CountVectorizer\n",
    "from sklearn.metrics import mean_absolute_error"
   ]
  },
  {
   "cell_type": "code",
   "execution_count": 2,
   "metadata": {
    "collapsed": true
   },
   "outputs": [],
   "source": [
    "RAND = 123\n",
    "PATH_TO_DATA = 'data/'\n",
    "PATH_TO_SUBMIT = 'submissions/'\n",
    "PATH_TO_TEST_JSON = os.path.join(PATH_TO_DATA, 'test.json')\n",
    "PATH_TO_TRAIN_JSON = os.path.join(PATH_TO_DATA, 'train.json')"
   ]
  },
  {
   "cell_type": "code",
   "execution_count": 3,
   "metadata": {
    "collapsed": true
   },
   "outputs": [],
   "source": [
    "from html.parser import HTMLParser\n",
    "\n",
    "class MLStripper(HTMLParser):\n",
    "    def __init__(self):\n",
    "        self.reset()\n",
    "        self.strict = False\n",
    "        self.convert_charrefs= True\n",
    "        self.fed = []\n",
    "    def handle_data(self, d):\n",
    "        self.fed.append(d)\n",
    "    def get_data(self):\n",
    "        return ''.join(self.fed)\n",
    "\n",
    "def strip_tags(html):\n",
    "    s = MLStripper()\n",
    "    s.feed(html)\n",
    "    return s.get_data()"
   ]
  },
  {
   "cell_type": "code",
   "execution_count": 4,
   "metadata": {
    "collapsed": true
   },
   "outputs": [],
   "source": [
    "def write_to_submission_file(prediction, filename):\n",
    "    submission = pd.read_csv(os.path.join(PATH_TO_DATA, 'sample_submission.csv'), \n",
    "                             index_col='id')\n",
    "    submission['log_recommends'] = prediction\n",
    "    submission.to_csv(os.path.join(PATH_TO_SUBMIT, filename))\n",
    "    \n",
    "def submit(model, X, y, transformers=None, test_name=None, name='submit'):\n",
    "    for ind in range(1, 1000):\n",
    "        name_with_ind = name + '_' + str(ind)\n",
    "        if name_with_ind not in os.listdir(PATH_TO_SUBMIT):\n",
    "            name = name_with_ind\n",
    "            break\n",
    "    print(name)\n",
    "    \n",
    "    model.fit(X, preproc(y))\n",
    "    predict = predict_from_file(model, transformers, test_name)\n",
    "    write_to_submission_file(predict, name)\n",
    "    log(X=X, model=model, status='submit {}'.format(name))\n",
    "    return predict"
   ]
  },
  {
   "cell_type": "code",
   "execution_count": 5,
   "metadata": {
    "collapsed": true
   },
   "outputs": [],
   "source": [
    "def predict_from_file(model, transformers, file_name):\n",
    "    time = pd.read_csv(os.path.join(PATH_TO_DATA, 'time_test (1).csv'), index_col=0)\n",
    "    content = pd.read_csv(os.path.join(PATH_TO_DATA, 'content_test (1).csv'), index_col=0)\n",
    "    test_df = pd.concat((time,content), axis=1)\n",
    "    test_df = test_df.drop(set(test_df.columns) & set(bad_names), axis=1)\n",
    "    \n",
    "    for name in pred_gen_names:\n",
    "        if name not in test_df.columns:\n",
    "            test_df[name] = np.zeros(len(test_df))\n",
    "    \n",
    "    \"\"\"for ind, data in tqdm_notebook(enumerate(read_iter(file_name))):\n",
    "        df = pd.concat((pd.DataFrame([data], index=[ind]), \n",
    "                        test_df.iloc[ind:ind+1]), axis=1)\n",
    "        display(df)\n",
    "        display(extract_pred_gen(df))\n",
    "        features = generate_all_features(df, transformers=transformers)[0]\n",
    "        \n",
    "        asd()\"\"\"\n",
    "    return [postproc(\n",
    "                model.predict(\n",
    "                    generate_all_features(pd.concat((pd.DataFrame([data], index=[ind]), \n",
    "                                                     test_df.iloc[ind:ind+1]), axis=1), \n",
    "                                          transformers=transformers)[0]\n",
    "                )[0]\n",
    "            )\n",
    "            for ind, data in enumerate(read_iter(file_name))]"
   ]
  },
  {
   "cell_type": "code",
   "execution_count": 6,
   "metadata": {
    "collapsed": true
   },
   "outputs": [],
   "source": [
    "def read_json_line(line=None):\n",
    "    result = None\n",
    "    try:        \n",
    "        result = json.loads(line)\n",
    "    except Exception as e:\n",
    "        idx_to_replace = int(str(e).split(' ')[-1].replace(')',''))     \n",
    "        new_line = list(line)\n",
    "        new_line[idx_to_replace] = ' '\n",
    "        new_line = ''.join(new_line)     \n",
    "        return read_json_line(line=new_line)\n",
    "    return result"
   ]
  },
  {
   "cell_type": "code",
   "execution_count": 7,
   "metadata": {
    "collapsed": true
   },
   "outputs": [],
   "source": [
    "def extract_info(line):\n",
    "    return {\n",
    "        #'text': line['content'],\n",
    "        #'timestamp': line['_timestamp'],\n",
    "        'content': line['content'],\n",
    "        'text': strip_tags(line['content'] \\\n",
    "                           .replace('\\n', ' ') \\\n",
    "                           .replace('\\r', ' ')),\n",
    "        #'image_url': line['image_url'],\n",
    "        'description': line['meta_tags']['description'],\n",
    "        'title': line['title'],\n",
    "        'date': pd.to_datetime(line['published']['$date']),\n",
    "        'author_url': line['author']['url'],\n",
    "        'author_twitter': line['author']['twitter'],\n",
    "        'url': line['url'],\n",
    "        'id': line['_id']\n",
    "    }\n",
    "\n",
    "\n",
    "def read_iter(path_to_inp_json_file, count=None):\n",
    "    if count is None:\n",
    "        with open(path_to_inp_json_file) as fl:\n",
    "            count = sum(1 for line in fl)\n",
    "    with open(path_to_inp_json_file, encoding='utf-8') as inp_file:\n",
    "        for line in tqdm_notebook(itertools.islice(inp_file, count), total=count):\n",
    "            yield extract_info(read_json_line(line))\n",
    "\n",
    "            \n",
    "def read_all(path_to_inp_json_file, count=None):\n",
    "    return pd.DataFrame(read_iter(path_to_inp_json_file, count))"
   ]
  },
  {
   "cell_type": "code",
   "execution_count": 8,
   "metadata": {
    "scrolled": true
   },
   "outputs": [
    {
     "data": {
      "application/vnd.jupyter.widget-view+json": {
       "model_id": "f1ad569fc1f24fb3b9864bf755b59fbe",
       "version_major": 2,
       "version_minor": 0
      },
      "text/plain": [
       "A Jupyter Widget"
      ]
     },
     "metadata": {},
     "output_type": "display_data"
    },
    {
     "name": "stdout",
     "output_type": "stream",
     "text": [
      "\n"
     ]
    }
   ],
   "source": [
    "train_text_df = read_all(PATH_TO_TRAIN_JSON, count=10000)"
   ]
  },
  {
   "cell_type": "code",
   "execution_count": 28,
   "metadata": {
    "collapsed": true
   },
   "outputs": [],
   "source": [
    "train_time = pd.read_csv(os.path.join(PATH_TO_DATA, 'time (1).csv'), index_col=0)\n",
    "train_content = pd.read_csv(os.path.join(PATH_TO_DATA, 'content (1).csv'), index_col=0)\n",
    "\n",
    "train_df = pd.concat((train_time,train_content, train_text_df), axis=1)\n",
    "train_df = train_df.iloc[train_text_df.index]"
   ]
  },
  {
   "cell_type": "code",
   "execution_count": 29,
   "metadata": {},
   "outputs": [
    {
     "data": {
      "text/plain": [
       "9840"
      ]
     },
     "execution_count": 29,
     "metadata": {},
     "output_type": "execute_result"
    }
   ],
   "source": [
    "train_df['target'] = pd.read_csv(os.path.join(PATH_TO_DATA, 'train_log1p_recommends.csv'), \n",
    "                                 index_col='id')['log_recommends'].values[:train_df.shape[0]]\n",
    "train_df = train_df.sort_values(by='date')\n",
    "train_df = train_df[train_df['date'].apply(lambda x: x.year >= 2014)]\n",
    "y = train_df['target']\n",
    "train_df = train_df.drop('target', axis=1)\n",
    "len(train_df)"
   ]
  },
  {
   "cell_type": "code",
   "execution_count": 30,
   "metadata": {},
   "outputs": [
    {
     "data": {
      "text/html": [
       "<div>\n",
       "<style scoped>\n",
       "    .dataframe tbody tr th:only-of-type {\n",
       "        vertical-align: middle;\n",
       "    }\n",
       "\n",
       "    .dataframe tbody tr th {\n",
       "        vertical-align: top;\n",
       "    }\n",
       "\n",
       "    .dataframe thead th {\n",
       "        text-align: right;\n",
       "    }\n",
       "</style>\n",
       "<table border=\"1\" class=\"dataframe\">\n",
       "  <thead>\n",
       "    <tr style=\"text-align: right;\">\n",
       "      <th></th>\n",
       "      <th>sat_or_thu</th>\n",
       "      <th>exclamations</th>\n",
       "      <th>gifs</th>\n",
       "      <th>images</th>\n",
       "      <th>author_twitter</th>\n",
       "      <th>author_url</th>\n",
       "      <th>content</th>\n",
       "      <th>date</th>\n",
       "      <th>description</th>\n",
       "      <th>id</th>\n",
       "      <th>text</th>\n",
       "      <th>title</th>\n",
       "      <th>url</th>\n",
       "    </tr>\n",
       "  </thead>\n",
       "  <tbody>\n",
       "    <tr>\n",
       "      <th>8759</th>\n",
       "      <td>0</td>\n",
       "      <td>6</td>\n",
       "      <td>0</td>\n",
       "      <td>4</td>\n",
       "      <td>@chrismessina</td>\n",
       "      <td>https://medium.com/@chrismessina</td>\n",
       "      <td>&lt;div&gt;&lt;header class=\"container u-maxWidth740\"&gt;&lt;...</td>\n",
       "      <td>2014-01-03 01:14:17.632</td>\n",
       "      <td>For the first time in 10 years, since I moved ...</td>\n",
       "      <td>https://medium.com/chris-messina/funemployed-1...</td>\n",
       "      <td>Chris MessinaCo-founder of Molly. Product guy,...</td>\n",
       "      <td>Funemployed! – Chris Messina – Medium</td>\n",
       "      <td>https://medium.com/chris-messina/funemployed-1...</td>\n",
       "    </tr>\n",
       "    <tr>\n",
       "      <th>2280</th>\n",
       "      <td>0</td>\n",
       "      <td>2</td>\n",
       "      <td>0</td>\n",
       "      <td>4</td>\n",
       "      <td>@jrlevine</td>\n",
       "      <td>https://medium.com/@jrlevine</td>\n",
       "      <td>&lt;div&gt;&lt;header class=\"container u-maxWidth740\"&gt;&lt;...</td>\n",
       "      <td>2014-01-03 19:15:40.291</td>\n",
       "      <td>I hear it again and again: “I’m done with soft...</td>\n",
       "      <td>https://medium.com/the-frontier/remember-the-f...</td>\n",
       "      <td>Jake LevineFounder &amp; CEO @electricobjects http...</td>\n",
       "      <td>Remember The Frontier – The Frontier – Medium</td>\n",
       "      <td>https://medium.com/the-frontier/remember-the-f...</td>\n",
       "    </tr>\n",
       "    <tr>\n",
       "      <th>4575</th>\n",
       "      <td>0</td>\n",
       "      <td>7</td>\n",
       "      <td>0</td>\n",
       "      <td>10</td>\n",
       "      <td>@mecolalu</td>\n",
       "      <td>https://medium.com/@mecolalu</td>\n",
       "      <td>&lt;div&gt;&lt;header class=\"container u-maxWidth740\"&gt;&lt;...</td>\n",
       "      <td>2014-01-03 21:02:58.055</td>\n",
       "      <td>Ali, and I sold Peanut Labs about 3 years ago....</td>\n",
       "      <td>https://medium.com/@mecolalu/how-we-did-15-sta...</td>\n",
       "      <td>Murtaza HussainBuilder of things and ideas.Jan...</td>\n",
       "      <td>How we did 15 startups in 21 months – Murtaza ...</td>\n",
       "      <td>https://medium.com/@mecolalu/how-we-did-15-sta...</td>\n",
       "    </tr>\n",
       "  </tbody>\n",
       "</table>\n",
       "</div>"
      ],
      "text/plain": [
       "      sat_or_thu  exclamations  gifs  images author_twitter  \\\n",
       "8759           0             6     0       4  @chrismessina   \n",
       "2280           0             2     0       4      @jrlevine   \n",
       "4575           0             7     0      10      @mecolalu   \n",
       "\n",
       "                            author_url  \\\n",
       "8759  https://medium.com/@chrismessina   \n",
       "2280      https://medium.com/@jrlevine   \n",
       "4575      https://medium.com/@mecolalu   \n",
       "\n",
       "                                                content  \\\n",
       "8759  <div><header class=\"container u-maxWidth740\"><...   \n",
       "2280  <div><header class=\"container u-maxWidth740\"><...   \n",
       "4575  <div><header class=\"container u-maxWidth740\"><...   \n",
       "\n",
       "                        date  \\\n",
       "8759 2014-01-03 01:14:17.632   \n",
       "2280 2014-01-03 19:15:40.291   \n",
       "4575 2014-01-03 21:02:58.055   \n",
       "\n",
       "                                            description  \\\n",
       "8759  For the first time in 10 years, since I moved ...   \n",
       "2280  I hear it again and again: “I’m done with soft...   \n",
       "4575  Ali, and I sold Peanut Labs about 3 years ago....   \n",
       "\n",
       "                                                     id  \\\n",
       "8759  https://medium.com/chris-messina/funemployed-1...   \n",
       "2280  https://medium.com/the-frontier/remember-the-f...   \n",
       "4575  https://medium.com/@mecolalu/how-we-did-15-sta...   \n",
       "\n",
       "                                                   text  \\\n",
       "8759  Chris MessinaCo-founder of Molly. Product guy,...   \n",
       "2280  Jake LevineFounder & CEO @electricobjects http...   \n",
       "4575  Murtaza HussainBuilder of things and ideas.Jan...   \n",
       "\n",
       "                                                  title  \\\n",
       "8759              Funemployed! – Chris Messina – Medium   \n",
       "2280      Remember The Frontier – The Frontier – Medium   \n",
       "4575  How we did 15 startups in 21 months – Murtaza ...   \n",
       "\n",
       "                                                    url  \n",
       "8759  https://medium.com/chris-messina/funemployed-1...  \n",
       "2280  https://medium.com/the-frontier/remember-the-f...  \n",
       "4575  https://medium.com/@mecolalu/how-we-did-15-sta...  "
      ]
     },
     "execution_count": 30,
     "metadata": {},
     "output_type": "execute_result"
    }
   ],
   "source": [
    "bad_names = [name for name in train_df.columns if name.startswith('year') \n",
    "                                                 or name.startswith('day')\n",
    "                                                 or name.startswith('month')\n",
    "                                                 or name.startswith('weekday')] + \\\n",
    "            ['published', 'second', 'hour', 'commas', 'minute', 'questions', 'cos_time', 'sin_time', 'sentences']\n",
    "train_df = train_df.drop(bad_names, axis=1)\n",
    "pred_gen_names = list(set(train_df.columns) - set(train_text_df.columns))\n",
    "train_df.head(3)"
   ]
  },
  {
   "cell_type": "code",
   "execution_count": 24,
   "metadata": {
    "scrolled": true
   },
   "outputs": [
    {
     "data": {
      "image/png": "[encoded data removed]",
      "text/plain": [
       "<matplotlib.figure.Figure at 0x7fde624e6470>"
      ]
     },
     "metadata": {},
     "output_type": "display_data"
    }
   ],
   "source": [
    "plt.figure(1, figsize=(10, 20))\n",
    "\n",
    "for i in range(7):\n",
    "    plt.subplot(10*71 + i + 1)\n",
    "    name = 'weekday_{}'.format(i)\n",
    "    plt.hist(y[train_df[name] == 1], bins=40, alpha=.5, color='red');"
   ]
  },
  {
   "cell_type": "code",
   "execution_count": 31,
   "metadata": {},
   "outputs": [
    {
     "data": {
      "image/png": "[encoded data removed]",
      "text/plain": [
       "<matplotlib.figure.Figure at 0x7fde622e2438>"
      ]
     },
     "metadata": {},
     "output_type": "display_data"
    }
   ],
   "source": [
    "plt.hist(train_df['date'].apply(lambda x: x.year + x.month / 12), \n",
    "         bins=40, alpha=.5, color='red', label='true');"
   ]
  },
  {
   "cell_type": "code",
   "execution_count": 32,
   "metadata": {
    "scrolled": true
   },
   "outputs": [
    {
     "data": {
      "text/plain": [
       "['sat_or_thu', 'exclamations', 'images', 'gifs']"
      ]
     },
     "execution_count": 32,
     "metadata": {},
     "output_type": "execute_result"
    }
   ],
   "source": [
    "pred_gen_names"
   ]
  },
  {
   "cell_type": "code",
   "execution_count": 40,
   "metadata": {
    "collapsed": true
   },
   "outputs": [],
   "source": [
    "def load_tfidf():#'TF.pickle'\n",
    "    with open(os.path.join(PATH_TO_DATA, 'TFIDF_DUMP (1)'), 'rb') as fl:\n",
    "        return pickle.load(fl)\n",
    "\n",
    "    \n",
    "def extract_text(data):\n",
    "    return data['title'] + ' ' + data['text']\n",
    "\n",
    "\n",
    "def generate_text_features(data):\n",
    "    text = data['title'] + ' ' + data['text']\n",
    "    features = pd.DataFrame(index=data.index)\n",
    "    return features\n",
    "    \n",
    "    \n",
    "    features['space'] = text.apply(lambda x: np.log1p(x.count(' ')))\n",
    "    features['len'] = text.apply(lambda x: np.log1p(len(x)))\n",
    "    features['sentences'] = text.apply(lambda x: np.log1p(x.count('.')))\n",
    "    features['mean_sent'] = features['len'] / features['sentences']\n",
    "    features['mean_space_sent'] = features['space'] / features['sentences']\n",
    "    features['title_len'] = data['title'].apply(lambda x: np.log1p(len(x)))\n",
    "    features['title_words'] = data['title'].apply(lambda x: np.log1p(x.count(' ')))\n",
    "    return features\n",
    "    \n",
    "    \n",
    "def extract_pred_gen(data):\n",
    "    features = pd.DataFrame(index=data.index)\n",
    "    return features\n",
    "    return data[pred_gen_names]\n",
    "\n",
    "\n",
    "def generate_authors(data):\n",
    "    return data['author_url'].apply(lambda x: x.split('/')[-1])\n",
    "\n",
    "def one_hot_smooth_encode(val, max_val):\n",
    "    result = np.zeros(max_val)\n",
    "    ival = int(val)\n",
    "    result[ival] += 1 - (val - ival)\n",
    "    result[(ival + 1) % max_val] += (val - ival)\n",
    "    return pd.Series(result)\n",
    "\n",
    "def encode_time(data, smooth=3, max_time=24, prefix=''):\n",
    "    max_val = (max_time + smooth - 1) // smooth\n",
    "    \n",
    "    def encode(x):\n",
    "        return one_hot_smooth_encode(x / smooth, max_val)\n",
    "    \n",
    "    result = data.apply(encode)\n",
    "    result = result.rename(columns={ind: prefix + str(ind) \n",
    "                                    for ind in range(max_val)})\n",
    "    return result\n",
    "\n",
    "\n",
    "def generate_time_features(data):\n",
    "    date = data['date']\n",
    "    \n",
    "    hours = date.apply(lambda x: x.hour + x.minute / 60)\n",
    "    smooth_hours = 2\n",
    "    features = pd.DataFrame(index=data.index)\n",
    "    return features\n",
    "\n",
    "\n",
    "    features = pd.concat([features, \n",
    "                          encode_time(hours, \n",
    "                                      prefix='smooth{}_hours_'.format(smooth_hours), \n",
    "                                      smooth=smooth_hours)], axis=1)\n",
    "    for i in range(7):\n",
    "        features['day_{}'.format(i)] = date.apply(lambda x: 1 if x.weekday == i else 0)\n",
    "        \n",
    "    features['time'] = date.apply(lambda x: np.log(x.year * 10000 + x.month * 100 + x.day))\n",
    "    return features\n",
    "\n",
    "\n",
    "def generate_all_features(data, y=None, transformers=None, X_test=None):\n",
    "    description = ''\n",
    "    \n",
    "    X_text = extract_text(data)\n",
    "    X_text_features = generate_text_features(data)\n",
    "    X_time = generate_time_features(data)\n",
    "    X_pred_gen = extract_pred_gen(data)\n",
    "    \n",
    "    \n",
    "    if not transformers:\n",
    "        transformers = {}\n",
    "    \n",
    "    #authors = generate_authors(data)\n",
    "    #if 'vecorizer_authors' not in transformers:\n",
    "    #    transformers['vecorizer_authors'] = TfidfVectorizer().fit(authors)\n",
    "    #    del transformers['vecorizer_authors'].stop_words_\n",
    "    #authors_csr = transformers['vecorizer_authors'].transform(authors).astype('float32')\n",
    "    #description += '{}: {}\\n'.format('vecorizer_authors', transformers['vecorizer_authors'])\n",
    "    \n",
    "    \n",
    "    if 'norm_index' not in transformers:\n",
    "        dif = X_pred_gen.max() - X_pred_gen.min()\n",
    "        transformers['norm_index'] = X_pred_gen.columns[dif <= 3]\n",
    "        transformers['unorm_index'] = X_pred_gen.columns[dif > 3]\n",
    "        \n",
    "    X_norm = X_pred_gen[transformers['norm_index']]\n",
    "    X_unnorm = X_pred_gen[transformers['unorm_index']]\n",
    "    \n",
    "    \n",
    "    if 'vecorizer' not in transformers:\n",
    "        transformers['vecorizer'] = load_tfidf()\n",
    "    X_text_csr = transformers['vecorizer'].transform(X_text).astype('float32')\n",
    "    description += '{}: {}\\n'.format('vecorizer', transformers['vecorizer'])\n",
    "    \n",
    "    \n",
    "    \n",
    "    #if 'trans' not in transformers:\n",
    "    #    transformers['trans'] = TfidfTransformer().fit(X_norm)\n",
    "    #X_norm_data = transformers['trans'].transform(X_norm)\n",
    "    #description += '{}: {}\\n'.format('trans', transformers['trans'])\n",
    "    X_norm_data = X_norm\n",
    "    \n",
    "    \n",
    "    to_scale = np.hstack((X_unnorm.values, X_text_features.values, X_time.values))\n",
    "    \n",
    "    \n",
    "    #if 'scaler' not in transformers:\n",
    "    #    transformers['scaler'] = StandardScaler().fit(to_scale)\n",
    "    #to_scale_csr = csr_matrix(transformers['scaler'].transform(to_scale))\n",
    "    #description += '{}: {}\\n'.format('scaler', transformers['scaler'])\n",
    "    to_scale_csr = csr_matrix(to_scale)\n",
    "    \n",
    "    result = hstack((X_norm_data, to_scale_csr, X_text_csr)).tocsc()\n",
    "    \n",
    "    \n",
    "    if 'scaler2' not in transformers:\n",
    "        transformers['scaler2'] = StandardScaler(with_mean=False).fit(result)\n",
    "    transformers['scaler2'].partial_fit(result)\n",
    "    result = csr_matrix(transformers['scaler2'].transform(result))\n",
    "    description += '{}: {}\\n'.format('scaler2', transformers['scaler2'])\n",
    "    \n",
    "    \n",
    "    result.DESCRIPTION = description\n",
    "    result.ANOTATION = []\n",
    "    \n",
    "    result.ANOTATION += (X_norm.columns + '_norm').tolist()\n",
    "    result.ANOTATION += X_unnorm.columns.tolist()\n",
    "    result.ANOTATION += X_text_features.columns.tolist()\n",
    "    result.ANOTATION += X_time.columns.tolist()\n",
    "    \n",
    "    return result, transformers"
   ]
  },
  {
   "cell_type": "code",
   "execution_count": 41,
   "metadata": {
    "collapsed": true
   },
   "outputs": [],
   "source": [
    "def log(file_name='temp_results.txt', last_action_file_name='last_action.txt',\n",
    "        X=None, model=None, score=None, status=None):\n",
    "    log_str = 'Status: {}\\n'.format(status)\n",
    "    \n",
    "    if score is not None:\n",
    "        log_str += 'Score = {}\\n\\n'.format(score)\n",
    "        \n",
    "    if model is not None:\n",
    "        log_str += 'Model:\\n{}\\n\\n'.format(model)\n",
    "        \n",
    "    if X is not None:\n",
    "        log_str += 'Features:\\n{}\\n'.format(X.DESCRIPTION)\n",
    "    \n",
    "    with open(file_name, 'a') as fl:\n",
    "        fl.write('-'*100 + '\\n');\n",
    "        fl.write(log_str)\n",
    "    \n",
    "    with open(last_action_file_name, 'w') as fl:\n",
    "        fl.write(log_str)\n",
    "        \n",
    "    return log_str\n",
    "\n",
    "def preproc(y):\n",
    "    return y;\n",
    "    return np.log(y)\n",
    "\n",
    "def postproc(y):\n",
    "    return y;\n",
    "    return np.exp(y)\n",
    "\n",
    "def score(model, X, y, X_test, y_test, write_log=True):\n",
    "    model.fit(X, preproc(y))\n",
    "    \n",
    "    predict = postproc(model.predict(X_test))\n",
    "    mae = mean_absolute_error(y_test, predict)\n",
    "    \n",
    "    if write_log:\n",
    "        log(model=model, \n",
    "            score=mae, \n",
    "            status='score', \n",
    "            X=X)\n",
    "        \n",
    "    return mae\n",
    "\n",
    "\n",
    "def cross_score(model, X, y, n_splits=8, n_test=3, margin=1, write_log=True):\n",
    "    l = len(y) // n_splits\n",
    "    \n",
    "    mae = np.array([score(model, \n",
    "                          X[i*l:(i+n_test)*l], y[i*l:(i+n_test)*l],\n",
    "                          X[(i+n_test+margin)*l:], y[(i+n_test+margin)*l:],\n",
    "                          write_log=False)\n",
    "                    for i in tnrange(n_splits - n_test - margin)])\n",
    "    \n",
    "    if write_log:\n",
    "        log(model=model, \n",
    "            score=mae,\n",
    "            status='score my fold: {}'.format((n_splits, n_test)), \n",
    "            X=X)\n",
    "        \n",
    "    return mae\n",
    "\n",
    "\n",
    "def cross_score2(model, X, y, n_splits=8, n_test=3, margin=1, write_log=True):\n",
    "    l = len(y) // n_splits\n",
    "    \n",
    "    mae = np.array([score(model, \n",
    "                          X[:(i+n_test)*l], y[:(i+n_test)*l],\n",
    "                          X[(i+n_test+margin)*l:], y[(i+n_test+margin)*l:],\n",
    "                          write_log=False)\n",
    "                    for i in tnrange(n_splits - n_test - margin)])\n",
    "    \n",
    "    if write_log:\n",
    "        log(model=model, \n",
    "            score=mae,\n",
    "            status='score my fold: {}'.format((n_splits, n_test)), \n",
    "            X=X)\n",
    "        \n",
    "    return mae"
   ]
  },
  {
   "cell_type": "code",
   "execution_count": 42,
   "metadata": {
    "scrolled": true
   },
   "outputs": [
    {
     "name": "stdout",
     "output_type": "stream",
     "text": [
      "CPU times: user 40.8 s, sys: 660 ms, total: 41.5 s\n",
      "Wall time: 41.8 s\n"
     ]
    }
   ],
   "source": [
    "%%time\n",
    "X, transformers = generate_all_features(train_df, y=y)"
   ]
  },
  {
   "cell_type": "code",
   "execution_count": 43,
   "metadata": {
    "collapsed": true
   },
   "outputs": [],
   "source": [
    "last_score = last_best_score = 1.36785032052\n",
    "last_score = last_best_score = 1.3243159901"
   ]
  },
  {
   "cell_type": "code",
   "execution_count": 44,
   "metadata": {
    "collapsed": true
   },
   "outputs": [],
   "source": [
    "model = Ridge(alpha=0.1, random_state=RAND)"
   ]
  },
  {
   "cell_type": "code",
   "execution_count": 46,
   "metadata": {
    "scrolled": true
   },
   "outputs": [
    {
     "data": {
      "application/vnd.jupyter.widget-view+json": {
       "model_id": "11375555599d4d48bea68c8541df498d",
       "version_major": 2,
       "version_minor": 0
      },
      "text/plain": [
       "A Jupyter Widget"
      ]
     },
     "metadata": {},
     "output_type": "display_data"
    },
    {
     "name": "stdout",
     "output_type": "stream",
     "text": [
      "\n",
      "1.40035864222\n",
      "[ 1.46652961  1.4104558   1.37269532  1.35175383]\n",
      "Diff with last: -0.0014128058099407426\n",
      "Diff with best: 0.07604265211977634\n",
      "CPU times: user 2min 44s, sys: 532 ms, total: 2min 45s\n",
      "Wall time: 2min 45s\n"
     ]
    }
   ],
   "source": [
    "%%time\n",
    "arr_score = cross_score2(model, X, y, n_splits=7, n_test=3, margin=0)\n",
    "\n",
    "new_score = arr_score.mean()\n",
    "print(new_score)\n",
    "print(arr_score)\n",
    "\n",
    "print('Diff with last: {}'.format(new_score - last_score))\n",
    "print('Diff with best: {}'.format(new_score - last_best_score))\n",
    "last_score = new_score\n",
    "if last_best_score > new_score:\n",
    "    last_best_score = new_score"
   ]
  },
  {
   "cell_type": "code",
   "execution_count": 28,
   "metadata": {},
   "outputs": [
    {
     "ename": "SyntaxError",
     "evalue": "invalid syntax (<ipython-input-28-5d723a2a28a2>, line 2)",
     "output_type": "error",
     "traceback": [
      "\u001b[0;36m  File \u001b[0;32m\"<ipython-input-28-5d723a2a28a2>\"\u001b[0;36m, line \u001b[0;32m2\u001b[0m\n\u001b[0;31m    [ 1.68124614  1.65651625  1.62821288  1.57028785]\u001b[0m\n\u001b[0m                           ^\u001b[0m\n\u001b[0;31mSyntaxError\u001b[0m\u001b[0;31m:\u001b[0m invalid syntax\n"
     ]
    }
   ],
   "source": [
    "1.63406577673\n",
    "[ 1.68124614  1.65651625  1.62821288  1.57028785]"
   ]
  },
  {
   "cell_type": "code",
   "execution_count": 86,
   "metadata": {},
   "outputs": [
    {
     "name": "stdout",
     "output_type": "stream",
     "text": [
      "CPU times: user 1min 29s, sys: 132 ms, total: 1min 29s\n",
      "Wall time: 1min 29s\n"
     ]
    },
    {
     "data": {
      "text/plain": [
       "Ridge(alpha=0.1, copy_X=True, fit_intercept=True, max_iter=None,\n",
       "   normalize=False, random_state=123, solver='auto', tol=0.001)"
      ]
     },
     "execution_count": 86,
     "metadata": {},
     "output_type": "execute_result"
    }
   ],
   "source": [
    "%%time\n",
    "model.fit(X, preproc(y))"
   ]
  },
  {
   "cell_type": "code",
   "execution_count": 39,
   "metadata": {
    "scrolled": true
   },
   "outputs": [
    {
     "name": "stdout",
     "output_type": "stream",
     "text": [
      " -0.014 title_len \n",
      " -0.013 mean_space_sent \n",
      " -0.009 mean_sent \n",
      "  0.006 images \n",
      " -0.006 title_words \n",
      "  0.006 sentences \n",
      "  0.004 gifs \n",
      " -0.003 len \n",
      " -0.003 exclamations \n",
      "  0.000 space \n",
      "  0.000 sat_or_thu_norm \n"
     ]
    },
    {
     "data": {
      "text/plain": [
       "array([ 0.01086592,  0.0108884 ,  0.01186714,  0.01221403,  0.01277993,\n",
       "        0.01435545,  0.01724106,  0.01772091,  0.02332722,  0.04488717])"
      ]
     },
     "execution_count": 39,
     "metadata": {},
     "output_type": "execute_result"
    }
   ],
   "source": [
    "anot = X.ANOTATION\n",
    "n_features = len(anot)\n",
    "coef = model.coef_\n",
    "abs_coef = np.abs(coef)\n",
    "argsort_coef = np.argsort(abs_coef[:n_features])\n",
    "for ind in argsort_coef[::-1]:\n",
    "    print('{:7.3f} {} '.format(coef[ind], \n",
    "                               anot[ind]))\n",
    "np.sort(abs_coef)[-10:]"
   ]
  },
  {
   "cell_type": "code",
   "execution_count": 55,
   "metadata": {
    "collapsed": true
   },
   "outputs": [],
   "source": [
    "train_X, test_X, train_y, test_y = train_test_split(X, y, shuffle=False)"
   ]
  },
  {
   "cell_type": "code",
   "execution_count": null,
   "metadata": {
    "collapsed": true
   },
   "outputs": [],
   "source": [
    "model.fit(train_X, preproc(train_y))"
   ]
  },
  {
   "cell_type": "code",
   "execution_count": null,
   "metadata": {
    "collapsed": true
   },
   "outputs": [],
   "source": [
    "test_predict = postproc(model.predict(test_X))"
   ]
  },
  {
   "cell_type": "code",
   "execution_count": 57,
   "metadata": {},
   "outputs": [
    {
     "data": {
      "image/png": "[encoded data removed]",
      "text/plain": [
       "<matplotlib.figure.Figure at 0x7f2d42a69518>"
      ]
     },
     "metadata": {},
     "output_type": "display_data"
    }
   ],
   "source": [
    "plt.hist(test_y, bins=30, alpha=.5, color='red', label='true', range=(0,10));\n",
    "plt.hist(test_predict, bins=30, alpha=.5, color='green', label='pred', range=(0,10));\n",
    "plt.legend();"
   ]
  },
  {
   "cell_type": "code",
   "execution_count": 39,
   "metadata": {
    "collapsed": true
   },
   "outputs": [],
   "source": [
    "mean_test = 4.33328\n",
    "test_count = 34645\n",
    "total = mean_test * 34645"
   ]
  },
  {
   "cell_type": "code",
   "execution_count": 87,
   "metadata": {
    "scrolled": true
   },
   "outputs": [
    {
     "data": {
      "application/vnd.jupyter.widget-view+json": {
       "model_id": "424600ab6e6f4730b7dde45498d3dc45",
       "version_major": 2,
       "version_minor": 0
      },
      "text/plain": [
       "A Jupyter Widget"
      ]
     },
     "metadata": {},
     "output_type": "display_data"
    },
    {
     "ename": "KeyboardInterrupt",
     "evalue": "",
     "output_type": "error",
     "traceback": [
      "\u001b[0;31m---------------------------------------------------------------------------\u001b[0m",
      "\u001b[0;31mKeyboardInterrupt\u001b[0m                         Traceback (most recent call last)",
      "\u001b[0;32m<ipython-input-87-be996096f2aa>\u001b[0m in \u001b[0;36m<module>\u001b[0;34m()\u001b[0m\n\u001b[0;32m----> 1\u001b[0;31m \u001b[0mpredict\u001b[0m \u001b[0;34m=\u001b[0m \u001b[0mpredict_from_file\u001b[0m\u001b[0;34m(\u001b[0m\u001b[0mmodel\u001b[0m\u001b[0;34m,\u001b[0m \u001b[0mtransformers\u001b[0m\u001b[0;34m,\u001b[0m \u001b[0mPATH_TO_TEST_JSON\u001b[0m\u001b[0;34m)\u001b[0m\u001b[0;34m\u001b[0m\u001b[0m\n\u001b[0m",
      "\u001b[0;32m<ipython-input-5-35f32c8ce1ac>\u001b[0m in \u001b[0;36mpredict_from_file\u001b[0;34m(model, transformers, file_name)\u001b[0m\n\u001b[1;32m     24\u001b[0m                 )[0]\n\u001b[1;32m     25\u001b[0m             )\n\u001b[0;32m---> 26\u001b[0;31m             for ind, data in enumerate(read_iter(file_name))]\n\u001b[0m",
      "\u001b[0;32m<ipython-input-5-35f32c8ce1ac>\u001b[0m in \u001b[0;36m<listcomp>\u001b[0;34m(.0)\u001b[0m\n\u001b[1;32m     17\u001b[0m \u001b[0;34m\u001b[0m\u001b[0m\n\u001b[1;32m     18\u001b[0m         asd()\"\"\"\n\u001b[0;32m---> 19\u001b[0;31m     return [postproc(\n\u001b[0m\u001b[1;32m     20\u001b[0m                 model.predict(\n\u001b[1;32m     21\u001b[0m                     generate_all_features(pd.concat((pd.DataFrame([data], index=[ind]), \n",
      "\u001b[0;32m<ipython-input-7-6b231031a6b3>\u001b[0m in \u001b[0;36mread_iter\u001b[0;34m(path_to_inp_json_file, count)\u001b[0m\n\u001b[1;32m     24\u001b[0m     \u001b[0;32mwith\u001b[0m \u001b[0mopen\u001b[0m\u001b[0;34m(\u001b[0m\u001b[0mpath_to_inp_json_file\u001b[0m\u001b[0;34m,\u001b[0m \u001b[0mencoding\u001b[0m\u001b[0;34m=\u001b[0m\u001b[0;34m'utf-8'\u001b[0m\u001b[0;34m)\u001b[0m \u001b[0;32mas\u001b[0m \u001b[0minp_file\u001b[0m\u001b[0;34m:\u001b[0m\u001b[0;34m\u001b[0m\u001b[0m\n\u001b[1;32m     25\u001b[0m         \u001b[0;32mfor\u001b[0m \u001b[0mline\u001b[0m \u001b[0;32min\u001b[0m \u001b[0mtqdm_notebook\u001b[0m\u001b[0;34m(\u001b[0m\u001b[0mitertools\u001b[0m\u001b[0;34m.\u001b[0m\u001b[0mislice\u001b[0m\u001b[0;34m(\u001b[0m\u001b[0minp_file\u001b[0m\u001b[0;34m,\u001b[0m \u001b[0mcount\u001b[0m\u001b[0;34m)\u001b[0m\u001b[0;34m,\u001b[0m \u001b[0mtotal\u001b[0m\u001b[0;34m=\u001b[0m\u001b[0mcount\u001b[0m\u001b[0;34m)\u001b[0m\u001b[0;34m:\u001b[0m\u001b[0;34m\u001b[0m\u001b[0m\n\u001b[0;32m---> 26\u001b[0;31m             \u001b[0;32myield\u001b[0m \u001b[0mextract_info\u001b[0m\u001b[0;34m(\u001b[0m\u001b[0mread_json_line\u001b[0m\u001b[0;34m(\u001b[0m\u001b[0mline\u001b[0m\u001b[0;34m)\u001b[0m\u001b[0;34m)\u001b[0m\u001b[0;34m\u001b[0m\u001b[0m\n\u001b[0m\u001b[1;32m     27\u001b[0m \u001b[0;34m\u001b[0m\u001b[0m\n\u001b[1;32m     28\u001b[0m \u001b[0;34m\u001b[0m\u001b[0m\n",
      "\u001b[0;32m<ipython-input-7-6b231031a6b3>\u001b[0m in \u001b[0;36mextract_info\u001b[0;34m(line)\u001b[0m\n\u001b[1;32m      6\u001b[0m         'text': strip_tags(line['content'] \\\n\u001b[1;32m      7\u001b[0m                            \u001b[0;34m.\u001b[0m\u001b[0mreplace\u001b[0m\u001b[0;34m(\u001b[0m\u001b[0;34m'\\n'\u001b[0m\u001b[0;34m,\u001b[0m \u001b[0;34m' '\u001b[0m\u001b[0;34m)\u001b[0m\u001b[0;31m \u001b[0m\u001b[0;31m\\\u001b[0m\u001b[0;34m\u001b[0m\u001b[0m\n\u001b[0;32m----> 8\u001b[0;31m                            .replace('\\r', ' ')),\n\u001b[0m\u001b[1;32m      9\u001b[0m         \u001b[0;31m#'image_url': line['image_url'],\u001b[0m\u001b[0;34m\u001b[0m\u001b[0;34m\u001b[0m\u001b[0m\n\u001b[1;32m     10\u001b[0m         \u001b[0;34m'description'\u001b[0m\u001b[0;34m:\u001b[0m \u001b[0mline\u001b[0m\u001b[0;34m[\u001b[0m\u001b[0;34m'meta_tags'\u001b[0m\u001b[0;34m]\u001b[0m\u001b[0;34m[\u001b[0m\u001b[0;34m'description'\u001b[0m\u001b[0;34m]\u001b[0m\u001b[0;34m,\u001b[0m\u001b[0;34m\u001b[0m\u001b[0m\n",
      "\u001b[0;32m<ipython-input-3-d28731ec9a50>\u001b[0m in \u001b[0;36mstrip_tags\u001b[0;34m(html)\u001b[0m\n\u001b[1;32m     14\u001b[0m \u001b[0;32mdef\u001b[0m \u001b[0mstrip_tags\u001b[0m\u001b[0;34m(\u001b[0m\u001b[0mhtml\u001b[0m\u001b[0;34m)\u001b[0m\u001b[0;34m:\u001b[0m\u001b[0;34m\u001b[0m\u001b[0m\n\u001b[1;32m     15\u001b[0m     \u001b[0ms\u001b[0m \u001b[0;34m=\u001b[0m \u001b[0mMLStripper\u001b[0m\u001b[0;34m(\u001b[0m\u001b[0;34m)\u001b[0m\u001b[0;34m\u001b[0m\u001b[0m\n\u001b[0;32m---> 16\u001b[0;31m     \u001b[0ms\u001b[0m\u001b[0;34m.\u001b[0m\u001b[0mfeed\u001b[0m\u001b[0;34m(\u001b[0m\u001b[0mhtml\u001b[0m\u001b[0;34m)\u001b[0m\u001b[0;34m\u001b[0m\u001b[0m\n\u001b[0m\u001b[1;32m     17\u001b[0m     \u001b[0;32mreturn\u001b[0m \u001b[0ms\u001b[0m\u001b[0;34m.\u001b[0m\u001b[0mget_data\u001b[0m\u001b[0;34m(\u001b[0m\u001b[0;34m)\u001b[0m\u001b[0;34m\u001b[0m\u001b[0m\n",
      "\u001b[0;32m~/anaconda3/lib/python3.6/html/parser.py\u001b[0m in \u001b[0;36mfeed\u001b[0;34m(self, data)\u001b[0m\n\u001b[1;32m    109\u001b[0m         \"\"\"\n\u001b[1;32m    110\u001b[0m         \u001b[0mself\u001b[0m\u001b[0;34m.\u001b[0m\u001b[0mrawdata\u001b[0m \u001b[0;34m=\u001b[0m \u001b[0mself\u001b[0m\u001b[0;34m.\u001b[0m\u001b[0mrawdata\u001b[0m \u001b[0;34m+\u001b[0m \u001b[0mdata\u001b[0m\u001b[0;34m\u001b[0m\u001b[0m\n\u001b[0;32m--> 111\u001b[0;31m         \u001b[0mself\u001b[0m\u001b[0;34m.\u001b[0m\u001b[0mgoahead\u001b[0m\u001b[0;34m(\u001b[0m\u001b[0;36m0\u001b[0m\u001b[0;34m)\u001b[0m\u001b[0;34m\u001b[0m\u001b[0m\n\u001b[0m\u001b[1;32m    112\u001b[0m \u001b[0;34m\u001b[0m\u001b[0m\n\u001b[1;32m    113\u001b[0m     \u001b[0;32mdef\u001b[0m \u001b[0mclose\u001b[0m\u001b[0;34m(\u001b[0m\u001b[0mself\u001b[0m\u001b[0;34m)\u001b[0m\u001b[0;34m:\u001b[0m\u001b[0;34m\u001b[0m\u001b[0m\n",
      "\u001b[0;32m~/anaconda3/lib/python3.6/html/parser.py\u001b[0m in \u001b[0;36mgoahead\u001b[0;34m(self, end)\u001b[0m\n\u001b[1;32m    169\u001b[0m             \u001b[0;32mif\u001b[0m \u001b[0mstartswith\u001b[0m\u001b[0;34m(\u001b[0m\u001b[0;34m'<'\u001b[0m\u001b[0;34m,\u001b[0m \u001b[0mi\u001b[0m\u001b[0;34m)\u001b[0m\u001b[0;34m:\u001b[0m\u001b[0;34m\u001b[0m\u001b[0m\n\u001b[1;32m    170\u001b[0m                 \u001b[0;32mif\u001b[0m \u001b[0mstarttagopen\u001b[0m\u001b[0;34m.\u001b[0m\u001b[0mmatch\u001b[0m\u001b[0;34m(\u001b[0m\u001b[0mrawdata\u001b[0m\u001b[0;34m,\u001b[0m \u001b[0mi\u001b[0m\u001b[0;34m)\u001b[0m\u001b[0;34m:\u001b[0m \u001b[0;31m# < + letter\u001b[0m\u001b[0;34m\u001b[0m\u001b[0m\n\u001b[0;32m--> 171\u001b[0;31m                     \u001b[0mk\u001b[0m \u001b[0;34m=\u001b[0m \u001b[0mself\u001b[0m\u001b[0;34m.\u001b[0m\u001b[0mparse_starttag\u001b[0m\u001b[0;34m(\u001b[0m\u001b[0mi\u001b[0m\u001b[0;34m)\u001b[0m\u001b[0;34m\u001b[0m\u001b[0m\n\u001b[0m\u001b[1;32m    172\u001b[0m                 \u001b[0;32melif\u001b[0m \u001b[0mstartswith\u001b[0m\u001b[0;34m(\u001b[0m\u001b[0;34m\"</\"\u001b[0m\u001b[0;34m,\u001b[0m \u001b[0mi\u001b[0m\u001b[0;34m)\u001b[0m\u001b[0;34m:\u001b[0m\u001b[0;34m\u001b[0m\u001b[0m\n\u001b[1;32m    173\u001b[0m                     \u001b[0mk\u001b[0m \u001b[0;34m=\u001b[0m \u001b[0mself\u001b[0m\u001b[0;34m.\u001b[0m\u001b[0mparse_endtag\u001b[0m\u001b[0;34m(\u001b[0m\u001b[0mi\u001b[0m\u001b[0;34m)\u001b[0m\u001b[0;34m\u001b[0m\u001b[0m\n",
      "\u001b[0;32m~/anaconda3/lib/python3.6/html/parser.py\u001b[0m in \u001b[0;36mparse_starttag\u001b[0;34m(self, i)\u001b[0m\n\u001b[1;32m    301\u001b[0m     \u001b[0;32mdef\u001b[0m \u001b[0mparse_starttag\u001b[0m\u001b[0;34m(\u001b[0m\u001b[0mself\u001b[0m\u001b[0;34m,\u001b[0m \u001b[0mi\u001b[0m\u001b[0;34m)\u001b[0m\u001b[0;34m:\u001b[0m\u001b[0;34m\u001b[0m\u001b[0m\n\u001b[1;32m    302\u001b[0m         \u001b[0mself\u001b[0m\u001b[0;34m.\u001b[0m\u001b[0m__starttag_text\u001b[0m \u001b[0;34m=\u001b[0m \u001b[0;32mNone\u001b[0m\u001b[0;34m\u001b[0m\u001b[0m\n\u001b[0;32m--> 303\u001b[0;31m         \u001b[0mendpos\u001b[0m \u001b[0;34m=\u001b[0m \u001b[0mself\u001b[0m\u001b[0;34m.\u001b[0m\u001b[0mcheck_for_whole_start_tag\u001b[0m\u001b[0;34m(\u001b[0m\u001b[0mi\u001b[0m\u001b[0;34m)\u001b[0m\u001b[0;34m\u001b[0m\u001b[0m\n\u001b[0m\u001b[1;32m    304\u001b[0m         \u001b[0;32mif\u001b[0m \u001b[0mendpos\u001b[0m \u001b[0;34m<\u001b[0m \u001b[0;36m0\u001b[0m\u001b[0;34m:\u001b[0m\u001b[0;34m\u001b[0m\u001b[0m\n\u001b[1;32m    305\u001b[0m             \u001b[0;32mreturn\u001b[0m \u001b[0mendpos\u001b[0m\u001b[0;34m\u001b[0m\u001b[0m\n",
      "\u001b[0;32m~/anaconda3/lib/python3.6/html/parser.py\u001b[0m in \u001b[0;36mcheck_for_whole_start_tag\u001b[0;34m(self, i)\u001b[0m\n\u001b[1;32m    352\u001b[0m     \u001b[0;32mdef\u001b[0m \u001b[0mcheck_for_whole_start_tag\u001b[0m\u001b[0;34m(\u001b[0m\u001b[0mself\u001b[0m\u001b[0;34m,\u001b[0m \u001b[0mi\u001b[0m\u001b[0;34m)\u001b[0m\u001b[0;34m:\u001b[0m\u001b[0;34m\u001b[0m\u001b[0m\n\u001b[1;32m    353\u001b[0m         \u001b[0mrawdata\u001b[0m \u001b[0;34m=\u001b[0m \u001b[0mself\u001b[0m\u001b[0;34m.\u001b[0m\u001b[0mrawdata\u001b[0m\u001b[0;34m\u001b[0m\u001b[0m\n\u001b[0;32m--> 354\u001b[0;31m         \u001b[0mm\u001b[0m \u001b[0;34m=\u001b[0m \u001b[0mlocatestarttagend_tolerant\u001b[0m\u001b[0;34m.\u001b[0m\u001b[0mmatch\u001b[0m\u001b[0;34m(\u001b[0m\u001b[0mrawdata\u001b[0m\u001b[0;34m,\u001b[0m \u001b[0mi\u001b[0m\u001b[0;34m)\u001b[0m\u001b[0;34m\u001b[0m\u001b[0m\n\u001b[0m\u001b[1;32m    355\u001b[0m         \u001b[0;32mif\u001b[0m \u001b[0mm\u001b[0m\u001b[0;34m:\u001b[0m\u001b[0;34m\u001b[0m\u001b[0m\n\u001b[1;32m    356\u001b[0m             \u001b[0mj\u001b[0m \u001b[0;34m=\u001b[0m \u001b[0mm\u001b[0m\u001b[0;34m.\u001b[0m\u001b[0mend\u001b[0m\u001b[0;34m(\u001b[0m\u001b[0;34m)\u001b[0m\u001b[0;34m\u001b[0m\u001b[0m\n",
      "\u001b[0;31mKeyboardInterrupt\u001b[0m: "
     ]
    }
   ],
   "source": [
    "predict = predict_from_file(model, transformers, PATH_TO_TEST_JSON)"
   ]
  },
  {
   "cell_type": "code",
   "execution_count": 28,
   "metadata": {},
   "outputs": [
    {
     "data": {
      "text/plain": [
       "3.050781122566502"
      ]
     },
     "metadata": {},
     "output_type": "display_data"
    },
    {
     "data": {
      "text/plain": [
       "4.3330000000000002"
      ]
     },
     "execution_count": 28,
     "metadata": {},
     "output_type": "execute_result"
    }
   ],
   "source": [
    "predict = np.array(predict)\n",
    "n_predict = predict.copy()\n",
    "display(n_predict.mean())\n",
    "for i in range(5):\n",
    "    n_predict[n_predict < 0.69315] = 0.69315\n",
    "    n_predict = n_predict - n_predict.mean() + 4.333\n",
    "    #n_predict = n_predict / n_predict.mean() * 4.333\n",
    "n_predict.mean()"
   ]
  },
  {
   "cell_type": "code",
   "execution_count": 29,
   "metadata": {},
   "outputs": [
    {
     "data": {
      "text/plain": [
       "2.64819737051444"
      ]
     },
     "execution_count": 29,
     "metadata": {},
     "output_type": "execute_result"
    }
   ],
   "source": [
    "2.6481973705144402"
   ]
  },
  {
   "cell_type": "code",
   "execution_count": 30,
   "metadata": {},
   "outputs": [
    {
     "data": {
      "image/png": "[encoded data removed]",
      "text/plain": [
       "<matplotlib.figure.Figure at 0x7fc94ea42f98>"
      ]
     },
     "metadata": {},
     "output_type": "display_data"
    }
   ],
   "source": [
    "plt.hist(y, bins=30, alpha=.5, color='red', label='test', range=(0,10))\n",
    "plt.hist(predict, bins=30, alpha=.5, color='green', label='pred', range=(0,10))\n",
    "plt.hist(n_predict, bins=30, alpha=.5, color='yellow', label='new pred', range=(0,10))\n",
    "plt.legend();"
   ]
  },
  {
   "cell_type": "code",
   "execution_count": 31,
   "metadata": {
    "collapsed": true
   },
   "outputs": [],
   "source": [
    "write_to_submission_file(n_predict, 'Lol')"
   ]
  },
  {
   "cell_type": "code",
   "execution_count": null,
   "metadata": {
    "collapsed": true
   },
   "outputs": [],
   "source": []
  }
 ],
 "metadata": {
  "kernelspec": {
   "display_name": "Python [default]",
   "language": "python",
   "name": "python3"
  },
  "language_info": {
   "codemirror_mode": {
    "name": "ipython",
    "version": 3
   },
   "file_extension": ".py",
   "mimetype": "text/x-python",
   "name": "python",
   "nbconvert_exporter": "python",
   "pygments_lexer": "ipython3",
   "version": "3.6.4"
  }
 },
 "nbformat": 4,
 "nbformat_minor": 2
}
